{
 "cells": [
  {
   "cell_type": "markdown",
   "id": "incoming-failing",
   "metadata": {},
   "source": [
    "# RNN for events"
   ]
  },
  {
   "cell_type": "code",
   "execution_count": 1,
   "id": "physical-balance",
   "metadata": {},
   "outputs": [],
   "source": [
    "import os\n",
    "import pickle\n",
    "import random\n",
    "import numpy as np\n",
    "import torch\n",
    "import torch.nn as nn\n",
    "import torch.nn.functional as F\n",
    "import math\n",
    "\n",
    "events_items = pickle.load( open( \"events_item.p\", \"rb\" ) )\n",
    "events_values = pickle.load(open(\"events_value.p\", \"rb\") )\n",
    "patients = pickle.load(open('patients.p', 'rb'))\n",
    "max_code = pickle.load(open('events_maxcode.p', 'rb')) + 1\n",
    "\n",
    "assert len(events_items)==174272 and len(events_values)==174272 and len(patients)==9822, \"Wrong dataframes?\"\n",
    "assert max_code==127, \"MAX CODE changed?\""
   ]
  },
  {
   "cell_type": "code",
   "execution_count": 2,
   "id": "excessive-lincoln",
   "metadata": {},
   "outputs": [],
   "source": [
    "# set seed\n",
    "seed = 230729\n",
    "random.seed(seed)\n",
    "np.random.seed(seed)\n",
    "torch.manual_seed(seed)\n",
    "os.environ[\"PYTHONHASHSEED\"] = str(seed)\n",
    "\n",
    "PATIENTS = 1000  # 0 - ALL"
   ]
  },
  {
   "cell_type": "markdown",
   "id": "distinguished-grenada",
   "metadata": {},
   "source": [
    "#### Dataset and Dataloader"
   ]
  },
  {
   "cell_type": "code",
   "execution_count": 3,
   "id": "cooked-professor",
   "metadata": {},
   "outputs": [],
   "source": [
    "from torch.utils.data import Dataset\n",
    "\n",
    "class CustomDataset(Dataset):\n",
    "    \n",
    "    def __init__(self, patients, events_items, events_values):\n",
    "\n",
    "        self.patients = events_items['subject_id'].unique()\n",
    "        self.y = patients\n",
    "        self.items = events_items.groupby('subject_id').agg('codes').apply(list).values\n",
    "        self.values = events_values.groupby('subject_id').agg('values').apply(list).values\n",
    "        \n",
    "    \n",
    "    def __len__(self):\n",
    "        \n",
    "        \"\"\"\n",
    "        Return the number of patients.\n",
    "        \"\"\"\n",
    "        \n",
    "        return len(self.patients)\n",
    "        \n",
    "    \n",
    "    def __getitem__(self, index):\n",
    "        \n",
    "        \"\"\"\n",
    "        Generates one sample of data.\n",
    "        \n",
    "        Outputs:\n",
    "            - subject_id\n",
    "            - tensor of visits, multi-hot items values\n",
    "            - mortality flag\n",
    "        \n",
    "        \"\"\"\n",
    "        \n",
    "        events = np.zeros([len(self.items[index]), max_code])\n",
    "\n",
    "        for i, codes in enumerate(self.items[index]):\n",
    "            for j, code in enumerate(codes):\n",
    "                v = self.values[index][i][j]\n",
    "                events[i, code] = v if not math.isnan(v) else 0.0\n",
    "        \n",
    "        subject_id = int(self.y[self.y['subject_id']==self.patients[index]]['subject_id'])\n",
    "        mortality_flag = int(self.y[self.y['subject_id']==self.patients[index]]['mortality_flag'])\n",
    "        \n",
    "        return subject_id, events, mortality_flag "
   ]
  },
  {
   "cell_type": "code",
   "execution_count": 4,
   "id": "anonymous-soundtrack",
   "metadata": {},
   "outputs": [
    {
     "name": "stdout",
     "output_type": "stream",
     "text": [
      "Patients: 1000\n",
      "Len of dataset: 1000\n"
     ]
    }
   ],
   "source": [
    "if PATIENTS > 0 :\n",
    "    patients = patients[:PATIENTS]\n",
    "\n",
    "events_items = events_items[events_items['subject_id'].isin(patients['subject_id'])]\n",
    "events_values = events_values[events_values['subject_id'].isin(patients['subject_id'])]\n",
    "dataset = CustomDataset(patients, events_items, events_values)\n",
    "\n",
    "print (\"Patients:\", len(patients))\n",
    "print (\"Len of dataset:\", len(dataset))"
   ]
  },
  {
   "cell_type": "code",
   "execution_count": 5,
   "id": "antique-capability",
   "metadata": {},
   "outputs": [],
   "source": [
    "def collate_fn(data):\n",
    "    subject_id, events, mortality_flag = zip(*data)\n",
    "    \n",
    "    maxvisits = max([len(p) for p in events])\n",
    "    \n",
    "    result = torch.tensor([np.concatenate((p, np.zeros([maxvisits - len(p), max_code]))) for p in events]).float()\n",
    "    mask = torch.tensor([np.concatenate((np.ones(len(p)), np.zeros(maxvisits - len(p)))) for p in events]).int()\n",
    "    \n",
    "    return torch.tensor(subject_id).int(), result, mask, torch.tensor(mortality_flag).float()"
   ]
  },
  {
   "cell_type": "code",
   "execution_count": 6,
   "id": "indie-great",
   "metadata": {},
   "outputs": [],
   "source": [
    "from torch.utils.data import DataLoader\n",
    "loader = DataLoader(dataset, batch_size=10, collate_fn=collate_fn)\n",
    "loader_iter = iter(loader)\n",
    "subjects, events, masks, y = next(loader_iter)\n",
    "\n",
    "#assert subjects.shape==torch.Size([10]) and events.shape==torch.Size([10,34,126]) and masks.shape==torch.Size([10,34]) and y.shape==torch.Size([10]), \"Wrong dimensions!\""
   ]
  },
  {
   "cell_type": "code",
   "execution_count": 7,
   "id": "broken-restaurant",
   "metadata": {},
   "outputs": [
    {
     "name": "stdout",
     "output_type": "stream",
     "text": [
      "Length of train dataset: 800\n",
      "Length of val dataset: 200\n"
     ]
    }
   ],
   "source": [
    "from torch.utils.data.dataset import random_split\n",
    "\n",
    "split = int(len(dataset)*0.8)\n",
    "\n",
    "lengths = [split, len(dataset) - split]\n",
    "train_dataset, val_dataset = random_split(dataset, lengths)\n",
    "\n",
    "print(\"Length of train dataset:\", len(train_dataset))\n",
    "print(\"Length of val dataset:\", len(val_dataset))"
   ]
  },
  {
   "cell_type": "code",
   "execution_count": 8,
   "id": "requested-image",
   "metadata": {},
   "outputs": [],
   "source": [
    "from torch.utils.data import DataLoader\n",
    "\n",
    "def load_data(train_dataset, val_dataset, collate_fn):\n",
    "    \n",
    "    train_loader = DataLoader(train_dataset, batch_size=32, shuffle=True, collate_fn=collate_fn)\n",
    "    val_loader = DataLoader(val_dataset, batch_size=32, shuffle=False, collate_fn=collate_fn)    \n",
    "    \n",
    "    return train_loader, val_loader\n",
    "\n",
    "\n",
    "train_loader, val_loader = load_data(train_dataset, val_dataset, collate_fn)"
   ]
  },
  {
   "cell_type": "markdown",
   "id": "continuing-reggae",
   "metadata": {},
   "source": [
    "#### Naive RNN"
   ]
  },
  {
   "cell_type": "code",
   "execution_count": 9,
   "id": "unauthorized-indicator",
   "metadata": {},
   "outputs": [],
   "source": [
    "def get_last_visit(hidden_states, masks):\n",
    "    \"\"\"\n",
    "    Obtain the hidden state for the last true visit (not padding visits)\n",
    "\n",
    "    \"\"\"\n",
    "\n",
    "    truevisits = masks.sum(dim=-1)\n",
    "\n",
    "    truevisits[truevisits <= 0] = 0\n",
    "    truevisits[truevisits > 0] = 1\n",
    "    truevisits = truevisits.sum(dim=0) - 1\n",
    "\n",
    "    truevisits_index = truevisits.unsqueeze(-1).expand(hidden_states.shape[:2]).unsqueeze(-1).expand(hidden_states.shape)\n",
    "\n",
    "    return (torch.gather(hidden_states,1,truevisits_index)[:,0])"
   ]
  },
  {
   "cell_type": "code",
   "execution_count": 10,
   "id": "former-gibraltar",
   "metadata": {},
   "outputs": [
    {
     "data": {
      "text/plain": [
       "NaiveRNN(\n",
       "  (rnn): GRU(127, 128, batch_first=True)\n",
       "  (fc1): Linear(in_features=128, out_features=1, bias=True)\n",
       "  (sig): Sigmoid()\n",
       ")"
      ]
     },
     "execution_count": 10,
     "metadata": {},
     "output_type": "execute_result"
    }
   ],
   "source": [
    "class NaiveRNN(nn.Module):\n",
    "    \n",
    "    def __init__(self, num_codes=max_code, emb_size=128):\n",
    "        super().__init__()\n",
    "        \n",
    "       # self.embedding = nn.Embedding(num_codes, emb_size)\n",
    "        self.rnn = nn.GRU(num_codes, hidden_size=emb_size, batch_first=True)\n",
    "        self.fc1 = nn.Linear(emb_size, 1)\n",
    "        self.sig = nn.Sigmoid()\n",
    "\n",
    "    \n",
    "    def forward(self, events, masks):\n",
    "        \n",
    "        rnn_hidden_states, _ = self.rnn(events)\n",
    "        \n",
    "        real_hidden_states = rnn_hidden_states * masks.unsqueeze(-1).expand(rnn_hidden_states.shape)\n",
    "        \n",
    "        sum_hidden_states = real_hidden_states.sum(dim=1)\n",
    "        \n",
    "        #sum_hidden_states = get_last_visit(rnn_hidden_states, masks)\n",
    "        \n",
    "        fc1 = self.fc1(sum_hidden_states)\n",
    "        output = self.sig(fc1).flatten()\n",
    "        return output\n",
    "    \n",
    "\n",
    "# load the model here\n",
    "naive_rnn = NaiveRNN()\n",
    "naive_rnn"
   ]
  },
  {
   "cell_type": "markdown",
   "id": "departmental-parliament",
   "metadata": {},
   "source": [
    "### Training and evaluation"
   ]
  },
  {
   "cell_type": "code",
   "execution_count": 11,
   "id": "genuine-dover",
   "metadata": {},
   "outputs": [],
   "source": [
    "criterion = nn.BCELoss()\n",
    "optimizer = torch.optim.Adam(naive_rnn.parameters(), lr=0.001)\n"
   ]
  },
  {
   "cell_type": "code",
   "execution_count": 12,
   "id": "starting-material",
   "metadata": {},
   "outputs": [],
   "source": [
    "from sklearn.metrics import precision_recall_fscore_support, roc_auc_score\n",
    "\n",
    "\n",
    "def eval_model(model, val_loader):    \n",
    "    model.eval()\n",
    "    Y_pred = []\n",
    "    Y_test = []\n",
    "    \n",
    "    for subjects, x, masks, y in val_loader:\n",
    "        outputs = model(x, masks)\n",
    "        Y_pred.append(outputs.detach().numpy())\n",
    "        Y_test.append(y.numpy())\n",
    "    \n",
    "    Y_pred = np.concatenate(Y_pred, axis=0)\n",
    "    Y_test = np.concatenate(Y_test, axis=0)\n",
    "    roc_auc = roc_auc_score(Y_test, Y_pred)\n",
    "    Y_pred[ Y_pred < 0.5 ] = 0\n",
    "    Y_pred[ Y_pred >= 0.5 ] = 1\n",
    "    precision, recall, f1, support = precision_recall_fscore_support(Y_test, Y_pred, average='binary')\n",
    "\n",
    "    return precision, recall, f1, roc_auc"
   ]
  },
  {
   "cell_type": "code",
   "execution_count": 13,
   "id": "loaded-container",
   "metadata": {},
   "outputs": [
    {
     "name": "stdout",
     "output_type": "stream",
     "text": [
      "Epoch 0: precision=0.2972972972972973 recall=0.4782608695652174, f1=0.3666666666666667, roc_auc=0.631662982068288\n",
      "Epoch 1: precision=0.19047619047619047 recall=0.17391304347826086, f1=0.1818181818181818, roc_auc=0.5652173913043478\n",
      "Epoch 2: precision=0.5 recall=0.08695652173913043, f1=0.14814814814814817, roc_auc=0.5266519282731514\n",
      "Epoch 3: precision=0.5833333333333334 recall=0.30434782608695654, f1=0.4, roc_auc=0.6612625890444609\n",
      "Epoch 4: precision=0.4074074074074074 recall=0.4782608695652174, f1=0.44000000000000006, roc_auc=0.7779415377057235\n"
     ]
    }
   ],
   "source": [
    "def train(model, train_loader, val_loader, n_epochs):\n",
    "    \n",
    "    model.train()\n",
    "    for epoch in range(n_epochs):\n",
    "        for subjects, events, masks, target in train_loader:\n",
    "            # your code here\n",
    "            optimizer.zero_grad()\n",
    "            output = model(events, masks)\n",
    "            loss = criterion(output, target)\n",
    "            loss.backward()\n",
    "            optimizer.step()\n",
    "            \n",
    "        precision, recall, f1, roc_auc = eval_model(model, val_loader)\n",
    "        print(f\"Epoch {epoch}: precision={precision} recall={recall}, f1={f1}, roc_auc={roc_auc}\")\n",
    "    \n",
    "\n",
    "    \n",
    "# number of epochs to train the model\n",
    "n_epochs = 5\n",
    "train(naive_rnn, train_loader, val_loader, n_epochs)"
   ]
  }
 ],
 "metadata": {
  "kernelspec": {
   "display_name": "conda_amazonei_pytorch_latest_p36",
   "language": "python",
   "name": "conda_amazonei_pytorch_latest_p36"
  },
  "language_info": {
   "codemirror_mode": {
    "name": "ipython",
    "version": 3
   },
   "file_extension": ".py",
   "mimetype": "text/x-python",
   "name": "python",
   "nbconvert_exporter": "python",
   "pygments_lexer": "ipython3",
   "version": "3.6.13"
  }
 },
 "nbformat": 4,
 "nbformat_minor": 5
}
