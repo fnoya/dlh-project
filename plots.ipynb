{
 "metadata": {
  "language_info": {
   "codemirror_mode": {
    "name": "ipython",
    "version": 3
   },
   "file_extension": ".py",
   "mimetype": "text/x-python",
   "name": "python",
   "nbconvert_exporter": "python",
   "pygments_lexer": "ipython3",
   "version": "3.6.8"
  },
  "orig_nbformat": 2,
  "kernelspec": {
   "name": "python368jvsc74a57bd0372d86228f3adce91ee8f73488429c59d9cef194793ee1ea2efae707e6a5484f",
   "display_name": "Python 3.6.8 64-bit"
  }
 },
 "nbformat": 4,
 "nbformat_minor": 2,
 "cells": [
  {
   "cell_type": "code",
   "execution_count": null,
   "metadata": {},
   "outputs": [],
   "source": [
    "from mpl_toolkits import mplot3d\n",
    "import matplotlib.pyplot as plt\n",
    "import pickle"
   ]
  },
  {
   "source": [
    "# Hyperparameters experiment Plots"
   ],
   "cell_type": "markdown",
   "metadata": {}
  },
  {
   "cell_type": "code",
   "execution_count": null,
   "metadata": {},
   "outputs": [],
   "source": [
    "r = pickle.load(open(\"hyperparam-exp-20210429-1200.p\", 'rb'))  ## SET THE DESIRED EXPERIMENT RESULTS FILENAME\n",
    "cohorts = r['cohorts']  \n",
    "optimizers = r['optimizers']  \n",
    "learning_rates = r['learning_rates']  \n",
    "epochs = r['epochs']  \n",
    "samples = r['samples']  \n",
    "results = r['results'] \n"
   ]
  },
  {
   "cell_type": "code",
   "execution_count": null,
   "metadata": {},
   "outputs": [],
   "source": [
    "for c, cohort in enumerate(cohorts):\n",
    "    for o, optim in enumerate(optimizers):\n",
    "        o_name = 'Adam' if o==0 else 'SGD'\n",
    "        for l, learning_rate in enumerate(learning_rates):\n",
    "            fig = plt.figure()\n",
    "            ax = plt.axes(projection='3d')\n",
    "            ax.set_title(cohort + \" \" + o_name + \" \" + str(learning_rate))\n",
    "            ax.set_xlabel(\"Epochs\")\n",
    "            ax.set_ylabel(\"Samples\")\n",
    "            ax.set_zlabel(\"ROC AUC\")\n",
    "            for e, n_epochs in enumerate(epochs):\n",
    "                for s, n_samples in enumerate(samples):\n",
    "                    roc = results[c, o, l, e, s][3]  ## Picking ROC AUC\n",
    "                    ax.scatter3D(n_epochs, n_samples, roc)"
   ]
  }
 ]
}