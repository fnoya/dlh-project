{
 "metadata": {
  "language_info": {
   "codemirror_mode": {
    "name": "ipython",
    "version": 3
   },
   "file_extension": ".py",
   "mimetype": "text/x-python",
   "name": "python",
   "nbconvert_exporter": "python",
   "pygments_lexer": "ipython3",
   "version": "3.6.8"
  },
  "orig_nbformat": 2,
  "kernelspec": {
   "name": "python368jvsc74a57bd0372d86228f3adce91ee8f73488429c59d9cef194793ee1ea2efae707e6a5484f",
   "display_name": "Python 3.6.8 64-bit"
  }
 },
 "nbformat": 4,
 "nbformat_minor": 2,
 "cells": [
  {
   "cell_type": "code",
   "execution_count": null,
   "metadata": {},
   "outputs": [],
   "source": [
    "import numpy as np\n",
    "import datetime\n",
    "import pandas as pd\n",
    "import torch\n",
    "import torch.nn as nn\n",
    "import time\n",
    "import pickle\n",
    "%run notes_events_network_join.ipynb"
   ]
  },
  {
   "cell_type": "code",
   "execution_count": null,
   "metadata": {},
   "outputs": [],
   "source": [
    "learning_rate = 0.01\n",
    "model, _ = create_model_and_optimizer()\n",
    "model.load_state_dict(torch.load(\"../balanced_model.pt\", map_location=torch.device('cpu')))"
   ]
  },
  {
   "source": [
    "# Obtaining the mean of beta attention weight of each feature.\n",
    "To do that, we are going to record the mean of the beta attention weight of each feature for batches of 1000 events"
   ],
   "cell_type": "markdown",
   "metadata": {}
  },
  {
   "cell_type": "code",
   "execution_count": null,
   "metadata": {},
   "outputs": [],
   "source": [
    "\n",
    "batch_size = 1000\n",
    "train_loader, val_loader = get_unbalanced_dataloaders()  \n",
    "results = []\n",
    "for step, batch in enumerate(train_loader):\n",
    "    x, masks, events, events_masks, labels = batch\n",
    "    print (events.shape)\n",
    "    h, _ = model.events.rnn_b(events)\n",
    "    beta = model.events.att_b(h)\n",
    "    results.append(beta.reshape(-1,127).transpose(1,0).mean(-1).detach())\n"
   ]
  },
  {
   "source": [
    "Then, we are going to calculate the mean of those means.\n",
    "Each feature will end up having an attention weight."
   ],
   "cell_type": "markdown",
   "metadata": {}
  },
  {
   "cell_type": "code",
   "execution_count": null,
   "metadata": {},
   "outputs": [],
   "source": [
    "weights = torch.stack(results, dim=-1).mean(-1)\n",
    "np.savetxt('weights.csv', weights.numpy())"
   ]
  },
  {
   "cell_type": "code",
   "execution_count": 8,
   "metadata": {},
   "outputs": [],
   "source": [
    "features = pd.read_csv('featurescodes.csv')\n",
    "weights = np.loadtxt('weights.csv')\n"
   ]
  },
  {
   "source": [
    "Since each feature has a different mean, to be able to compare the weights we normalize them first by the mean of the values of each feature.\n",
    "\n",
    "We discard those features with less than 1000 readings."
   ],
   "cell_type": "markdown",
   "metadata": {}
  },
  {
   "cell_type": "code",
   "execution_count": 9,
   "metadata": {},
   "outputs": [],
   "source": [
    "f = pd.concat([features, pd.DataFrame(weights)], axis=1)\n",
    "f.columns = ['code', 'mimiciiitable', 'feature', 'mean', 'stddev', 'cnt', 'weight']\n",
    "f['adj_weight'] = abs(f['weight']) * f['mean']\n",
    "f = f[f['cnt']>1000]\n"
   ]
  },
  {
   "cell_type": "code",
   "execution_count": 10,
   "metadata": {},
   "outputs": [
    {
     "output_type": "execute_result",
     "data": {
      "text/plain": [
       "                                          code        mean       stddev  \\\n",
       "feature                                                                   \n",
       "Blood Glucose                         5.000000  147.206058    69.798813   \n",
       "Glucose                              55.666667  219.543959  2926.100302   \n",
       "Weight                              116.000000   89.538627    25.962110   \n",
       "Systolic blood pressure              96.250000  122.187473    22.048913   \n",
       "Temperature                          94.000000   67.436831     3.699972   \n",
       "Heart Rate                           60.500000   84.878449    14.934327   \n",
       "Mean blood pressure                  72.750000   78.746868    15.677828   \n",
       "Oxygen Saturation                     0.000000   89.543927    11.734493   \n",
       "Diastolic blood pressure             26.200000   52.003586    24.539563   \n",
       "Respiratory rate                     85.500000   17.149624     8.404882   \n",
       "Glascow coma scale total             47.000000   11.776412     3.452503   \n",
       "% Hemoglobin A1c                      3.000000    7.422598     1.993905   \n",
       "pH                                   95.400000    7.050781     1.147353   \n",
       "Glascow coma scale eye opening       43.500000    3.396854     0.877283   \n",
       "Glascow coma scale motor response    45.000000    5.358885     1.230819   \n",
       "Glascow coma scale verbal response   48.000000    3.302102     1.784088   \n",
       "Serum Creatinine                      7.000000    1.830985     1.738327   \n",
       "\n",
       "                                             cnt    weight  adj_weight  \n",
       "feature                                                                 \n",
       "Blood Glucose                       32855.000000 -0.103953   15.302549  \n",
       "Glucose                              5838.666667 -0.003539   12.562518  \n",
       "Weight                               4863.000000  0.128866   11.538493  \n",
       "Systolic blood pressure              4710.000000 -0.024929    7.841152  \n",
       "Temperature                          4603.166667 -0.055527    5.671658  \n",
       "Heart Rate                           7573.500000  0.040401    3.421161  \n",
       "Mean blood pressure                  4697.250000 -0.041247    3.277463  \n",
       "Oxygen Saturation                    4129.000000 -0.021507    1.925806  \n",
       "Diastolic blood pressure             4014.200000 -0.000730    1.625209  \n",
       "Respiratory rate                     4168.500000 -0.011311    0.946404  \n",
       "Glascow coma scale total             8430.000000 -0.069444    0.817798  \n",
       "% Hemoglobin A1c                     1270.000000  0.085874    0.637412  \n",
       "pH                                   4748.400000  0.008174    0.316685  \n",
       "Glascow coma scale eye opening       7359.000000 -0.024996    0.201293  \n",
       "Glascow coma scale motor response    6269.000000 -0.020014    0.107253  \n",
       "Glascow coma scale verbal response   6268.000000 -0.020154    0.066550  \n",
       "Serum Creatinine                    34364.000000  0.023314    0.042687  "
      ],
      "text/html": "<div>\n<style scoped>\n    .dataframe tbody tr th:only-of-type {\n        vertical-align: middle;\n    }\n\n    .dataframe tbody tr th {\n        vertical-align: top;\n    }\n\n    .dataframe thead th {\n        text-align: right;\n    }\n</style>\n<table border=\"1\" class=\"dataframe\">\n  <thead>\n    <tr style=\"text-align: right;\">\n      <th></th>\n      <th>code</th>\n      <th>mean</th>\n      <th>stddev</th>\n      <th>cnt</th>\n      <th>weight</th>\n      <th>adj_weight</th>\n    </tr>\n    <tr>\n      <th>feature</th>\n      <th></th>\n      <th></th>\n      <th></th>\n      <th></th>\n      <th></th>\n      <th></th>\n    </tr>\n  </thead>\n  <tbody>\n    <tr>\n      <th>Blood Glucose</th>\n      <td>5.000000</td>\n      <td>147.206058</td>\n      <td>69.798813</td>\n      <td>32855.000000</td>\n      <td>-0.103953</td>\n      <td>15.302549</td>\n    </tr>\n    <tr>\n      <th>Glucose</th>\n      <td>55.666667</td>\n      <td>219.543959</td>\n      <td>2926.100302</td>\n      <td>5838.666667</td>\n      <td>-0.003539</td>\n      <td>12.562518</td>\n    </tr>\n    <tr>\n      <th>Weight</th>\n      <td>116.000000</td>\n      <td>89.538627</td>\n      <td>25.962110</td>\n      <td>4863.000000</td>\n      <td>0.128866</td>\n      <td>11.538493</td>\n    </tr>\n    <tr>\n      <th>Systolic blood pressure</th>\n      <td>96.250000</td>\n      <td>122.187473</td>\n      <td>22.048913</td>\n      <td>4710.000000</td>\n      <td>-0.024929</td>\n      <td>7.841152</td>\n    </tr>\n    <tr>\n      <th>Temperature</th>\n      <td>94.000000</td>\n      <td>67.436831</td>\n      <td>3.699972</td>\n      <td>4603.166667</td>\n      <td>-0.055527</td>\n      <td>5.671658</td>\n    </tr>\n    <tr>\n      <th>Heart Rate</th>\n      <td>60.500000</td>\n      <td>84.878449</td>\n      <td>14.934327</td>\n      <td>7573.500000</td>\n      <td>0.040401</td>\n      <td>3.421161</td>\n    </tr>\n    <tr>\n      <th>Mean blood pressure</th>\n      <td>72.750000</td>\n      <td>78.746868</td>\n      <td>15.677828</td>\n      <td>4697.250000</td>\n      <td>-0.041247</td>\n      <td>3.277463</td>\n    </tr>\n    <tr>\n      <th>Oxygen Saturation</th>\n      <td>0.000000</td>\n      <td>89.543927</td>\n      <td>11.734493</td>\n      <td>4129.000000</td>\n      <td>-0.021507</td>\n      <td>1.925806</td>\n    </tr>\n    <tr>\n      <th>Diastolic blood pressure</th>\n      <td>26.200000</td>\n      <td>52.003586</td>\n      <td>24.539563</td>\n      <td>4014.200000</td>\n      <td>-0.000730</td>\n      <td>1.625209</td>\n    </tr>\n    <tr>\n      <th>Respiratory rate</th>\n      <td>85.500000</td>\n      <td>17.149624</td>\n      <td>8.404882</td>\n      <td>4168.500000</td>\n      <td>-0.011311</td>\n      <td>0.946404</td>\n    </tr>\n    <tr>\n      <th>Glascow coma scale total</th>\n      <td>47.000000</td>\n      <td>11.776412</td>\n      <td>3.452503</td>\n      <td>8430.000000</td>\n      <td>-0.069444</td>\n      <td>0.817798</td>\n    </tr>\n    <tr>\n      <th>% Hemoglobin A1c</th>\n      <td>3.000000</td>\n      <td>7.422598</td>\n      <td>1.993905</td>\n      <td>1270.000000</td>\n      <td>0.085874</td>\n      <td>0.637412</td>\n    </tr>\n    <tr>\n      <th>pH</th>\n      <td>95.400000</td>\n      <td>7.050781</td>\n      <td>1.147353</td>\n      <td>4748.400000</td>\n      <td>0.008174</td>\n      <td>0.316685</td>\n    </tr>\n    <tr>\n      <th>Glascow coma scale eye opening</th>\n      <td>43.500000</td>\n      <td>3.396854</td>\n      <td>0.877283</td>\n      <td>7359.000000</td>\n      <td>-0.024996</td>\n      <td>0.201293</td>\n    </tr>\n    <tr>\n      <th>Glascow coma scale motor response</th>\n      <td>45.000000</td>\n      <td>5.358885</td>\n      <td>1.230819</td>\n      <td>6269.000000</td>\n      <td>-0.020014</td>\n      <td>0.107253</td>\n    </tr>\n    <tr>\n      <th>Glascow coma scale verbal response</th>\n      <td>48.000000</td>\n      <td>3.302102</td>\n      <td>1.784088</td>\n      <td>6268.000000</td>\n      <td>-0.020154</td>\n      <td>0.066550</td>\n    </tr>\n    <tr>\n      <th>Serum Creatinine</th>\n      <td>7.000000</td>\n      <td>1.830985</td>\n      <td>1.738327</td>\n      <td>34364.000000</td>\n      <td>0.023314</td>\n      <td>0.042687</td>\n    </tr>\n  </tbody>\n</table>\n</div>"
     },
     "metadata": {},
     "execution_count": 10
    }
   ],
   "source": [
    "f.groupby('feature').mean().sort_values(by='adj_weight', ascending=False)"
   ]
  }
 ]
}