{
 "cells": [
  {
   "cell_type": "code",
   "execution_count": 2,
   "id": "earlier-elder",
   "metadata": {},
   "outputs": [
    {
     "name": "stdout",
     "output_type": "stream",
     "text": [
      "Collecting PyAthena\n",
      "  Downloading PyAthena-2.2.0-py3-none-any.whl (37 kB)\n",
      "Requirement already satisfied: boto3>=1.4.4 in /home/ec2-user/anaconda3/envs/amazonei_pytorch_latest_p36/lib/python3.6/site-packages (from PyAthena) (1.17.35)\n",
      "Collecting tenacity>=4.1.0\n",
      "  Downloading tenacity-7.0.0-py2.py3-none-any.whl (23 kB)\n",
      "Requirement already satisfied: botocore>=1.5.52 in /home/ec2-user/anaconda3/envs/amazonei_pytorch_latest_p36/lib/python3.6/site-packages (from PyAthena) (1.20.35)\n",
      "Requirement already satisfied: s3transfer<0.4.0,>=0.3.0 in /home/ec2-user/anaconda3/envs/amazonei_pytorch_latest_p36/lib/python3.6/site-packages (from boto3>=1.4.4->PyAthena) (0.3.4)\n",
      "Requirement already satisfied: jmespath<1.0.0,>=0.7.1 in /home/ec2-user/anaconda3/envs/amazonei_pytorch_latest_p36/lib/python3.6/site-packages (from boto3>=1.4.4->PyAthena) (0.10.0)\n",
      "Requirement already satisfied: python-dateutil<3.0.0,>=2.1 in /home/ec2-user/anaconda3/envs/amazonei_pytorch_latest_p36/lib/python3.6/site-packages (from botocore>=1.5.52->PyAthena) (2.8.1)\n",
      "Requirement already satisfied: urllib3<1.27,>=1.25.4 in /home/ec2-user/anaconda3/envs/amazonei_pytorch_latest_p36/lib/python3.6/site-packages (from botocore>=1.5.52->PyAthena) (1.26.3)\n",
      "Requirement already satisfied: six>=1.5 in /home/ec2-user/anaconda3/envs/amazonei_pytorch_latest_p36/lib/python3.6/site-packages (from python-dateutil<3.0.0,>=2.1->botocore>=1.5.52->PyAthena) (1.15.0)\n",
      "Installing collected packages: tenacity, PyAthena\n",
      "Successfully installed PyAthena-2.2.0 tenacity-7.0.0\n"
     ]
    }
   ],
   "source": [
    "!pip install PyAthena\n",
    "from pyathena import connect\n",
    "from pyathena.pandas.util import as_pandas\n",
    "\n",
    "\n",
    "# Import libraries\n",
    "import datetime\n",
    "import numpy as np\n",
    "import pandas as pd\n",
    "import matplotlib.pyplot as plt\n",
    "import os\n",
    "import boto3\n",
    "from botocore.client import ClientError\n",
    "from IPython.display import display, HTML\n",
    "%matplotlib inline\n",
    "\n",
    "\n",
    "s3 = boto3.resource('s3')\n",
    "client = boto3.client(\"sts\")\n",
    "account_id = client.get_caller_identity()[\"Account\"]\n",
    "my_session = boto3.session.Session()\n",
    "region = my_session.region_name\n",
    "athena_query_results_bucket = 'aws-athena-query-results-'+account_id+'-'+region\n",
    "\n",
    "try:\n",
    "    s3.meta.client.head_bucket(Bucket=athena_query_results_bucket)\n",
    "except ClientError:\n",
    "    bucket = s3.create_bucket(Bucket=athena_query_results_bucket)\n",
    "    print('Creating bucket '+athena_query_results_bucket)\n",
    "cursor = connect(s3_staging_dir='s3://'+athena_query_results_bucket+'/athena/temp').cursor()"
   ]
  },
  {
   "cell_type": "markdown",
   "id": "thermal-bosnia",
   "metadata": {},
   "source": [
    "## Diabetic patients cohort"
   ]
  },
  {
   "cell_type": "code",
   "execution_count": 4,
   "id": "relevant-begin",
   "metadata": {},
   "outputs": [
    {
     "data": {
      "text/html": [
       "<div>\n",
       "<style scoped>\n",
       "    .dataframe tbody tr th:only-of-type {\n",
       "        vertical-align: middle;\n",
       "    }\n",
       "\n",
       "    .dataframe tbody tr th {\n",
       "        vertical-align: top;\n",
       "    }\n",
       "\n",
       "    .dataframe thead th {\n",
       "        text-align: right;\n",
       "    }\n",
       "</style>\n",
       "<table border=\"1\" class=\"dataframe\">\n",
       "  <thead>\n",
       "    <tr style=\"text-align: right;\">\n",
       "      <th></th>\n",
       "      <th>subject_id</th>\n",
       "      <th>admit_time</th>\n",
       "      <th>discharge_time</th>\n",
       "      <th>mortality_flag</th>\n",
       "    </tr>\n",
       "  </thead>\n",
       "  <tbody>\n",
       "    <tr>\n",
       "      <th>0</th>\n",
       "      <td>787</td>\n",
       "      <td>2142-01-31 18:55:00</td>\n",
       "      <td>2142-07-02 20:00:00</td>\n",
       "      <td>0</td>\n",
       "    </tr>\n",
       "    <tr>\n",
       "      <th>1</th>\n",
       "      <td>1220</td>\n",
       "      <td>2181-08-08 08:00:00</td>\n",
       "      <td>2181-08-14 12:30:00</td>\n",
       "      <td>0</td>\n",
       "    </tr>\n",
       "    <tr>\n",
       "      <th>2</th>\n",
       "      <td>2877</td>\n",
       "      <td>2135-01-21 07:15:00</td>\n",
       "      <td>2135-01-26 12:19:00</td>\n",
       "      <td>0</td>\n",
       "    </tr>\n",
       "    <tr>\n",
       "      <th>3</th>\n",
       "      <td>6024</td>\n",
       "      <td>2123-05-06 15:16:00</td>\n",
       "      <td>2127-10-08 20:40:00</td>\n",
       "      <td>0</td>\n",
       "    </tr>\n",
       "    <tr>\n",
       "      <th>4</th>\n",
       "      <td>4979</td>\n",
       "      <td>2109-07-07 14:27:00</td>\n",
       "      <td>2109-07-24 14:00:00</td>\n",
       "      <td>0</td>\n",
       "    </tr>\n",
       "  </tbody>\n",
       "</table>\n",
       "</div>"
      ],
      "text/plain": [
       "   subject_id          admit_time      discharge_time  mortality_flag\n",
       "0         787 2142-01-31 18:55:00 2142-07-02 20:00:00               0\n",
       "1        1220 2181-08-08 08:00:00 2181-08-14 12:30:00               0\n",
       "2        2877 2135-01-21 07:15:00 2135-01-26 12:19:00               0\n",
       "3        6024 2123-05-06 15:16:00 2127-10-08 20:40:00               0\n",
       "4        4979 2109-07-07 14:27:00 2109-07-24 14:00:00               0"
      ]
     },
     "execution_count": 4,
     "metadata": {},
     "output_type": "execute_result"
    }
   ],
   "source": [
    "query='select * from default.diabetic_patients_cohort'\n",
    "cursor.execute(query)\n",
    "patients = as_pandas(cursor)\n",
    "patients.head()"
   ]
  },
  {
   "cell_type": "markdown",
   "id": "primary-program",
   "metadata": {},
   "source": [
    "## Selected ICD9 codes"
   ]
  },
  {
   "cell_type": "code",
   "execution_count": 6,
   "id": "herbal-temperature",
   "metadata": {},
   "outputs": [],
   "source": [
    "chartevents_codes = [\n",
    "    ['Capillary refill rate', 3348, 224308, 223951, 8377, 115],\n",
    "    ['Diastolic blood pressure', 8364, 225310, 228151, 8555, 8368, 220051, 8502, 8503, 8504, 8505, 8506, 8507, 8508, 153, 8440, 224643, 227242, 8441, 220180, 8444, 8445, 8446, 8448, 220060],\n",
    "    ['Fraction inspired oxygen', 7146, 226767, 227035, 228192, 228193, 228232],\n",
    "    ['Glascow coma scale eye opening', 184, 220739],\n",
    "    ['Glascow coma scale motor response', 223901, 226757],\n",
    "    ['Glascow coma scale total', 198],\n",
    "    ['Glascow coma scale verbal response', 223900, 226758],\n",
    "    ['Glucose', 3744, 3745, 1310, 807, 1529, 811, 220621, 226537, 3447, 225664],\n",
    "    ['Heart Rate', 211, 220045],\n",
    "    ['Height', 226730],\n",
    "    ['Mean blood pressure', 225312, 52, 6702, 220052, 6927, 3312, 3314, 3316, 7618, 3318, 3320, 3322, 7620, 7622, 3324, 5702, 443, 456, 220181],\n",
    "    ['Oxygen saturation', 0],\n",
    "    ['Respiratory rate', 220210, 618, 224688, 224690, 224689, 619],\n",
    "    ['Systolic blood pressure', 51, 225309, 220050, 3313, 3315, 3317, 3319, 3321, 3323, 3325, 442, 224167, 227243, 455, 220179, 480, 482, 484 ],\n",
    "    ['Temperature', 224027, 645, 8537, 676, 677, 223762, 678, 679, 223761],\n",
    "    ['Weight', 581],\n",
    "    ['pH', 1126, 780, 223830, 220274, 220734, 4753, 4202, 1365, 7717, 3839]\n",
    "]\n",
    "\n",
    "labevents_codes = [\n",
    "    ['Oxygen Saturation', 50817],\n",
    "    ['Temperature', 50825],\n",
    "    ['pH', 50820],\n",
    "    ['% Hemoglobin A1c', 50852, 50854],\n",
    "    ['Blood Glucose', 50931, 51529],\n",
    "    ['Serum Creatinine', 50912]    \n",
    "]"
   ]
  },
  {
   "cell_type": "code",
   "execution_count": 57,
   "id": "vanilla-nerve",
   "metadata": {},
   "outputs": [],
   "source": [
    "def create_codes_table():\n",
    "    query = \"SHOW TABLES LIKE 'featurescodes'\"\n",
    "    cursor.execute(query)\n",
    "    if (cursor.fetchone() is None):\n",
    "        try:\n",
    "            query = \"create external table default.featurescodes  (mimiciiitable string, feature string, icd9code int) stored as PARQUET location 's3://aws-athena-query-results-067114122515-us-east-1/events'\"\n",
    "            cursor.execute(query)\n",
    "            for f in labevents_codes:\n",
    "                fn = f[0]\n",
    "                for c in f[1:]:\n",
    "                    query = \"insert into featurescodes values ('labevents','\" + fn +\"',\" + str(c) +\")\"\n",
    "                    cursor.execute(query)\n",
    "            for f in chartevents_codes:\n",
    "                fn = f[0]\n",
    "                for c in f[1:]:\n",
    "                    query = \"insert into featurescodes values ('chartevents','\" + fn +\"',\" + str(c) +\")\"\n",
    "                    cursor.execute(query)\n",
    "\n",
    "            print (\"featurescodes table created!\")\n",
    "        except Exception as e:\n",
    "            print (e)\n",
    "    else:\n",
    "        print (\"featurescodes table already exists.\")\n",
    "            "
   ]
  },
  {
   "cell_type": "code",
   "execution_count": 59,
   "id": "addressed-institute",
   "metadata": {},
   "outputs": [
    {
     "name": "stdout",
     "output_type": "stream",
     "text": [
      "featurescodes table created!\n"
     ]
    }
   ],
   "source": []
  },
  {
   "cell_type": "code",
   "execution_count": null,
   "id": "demanding-beverage",
   "metadata": {},
   "outputs": [],
   "source": []
  }
 ],
 "metadata": {
  "kernelspec": {
   "display_name": "conda_amazonei_pytorch_latest_p36",
   "language": "python",
   "name": "conda_amazonei_pytorch_latest_p36"
  },
  "language_info": {
   "codemirror_mode": {
    "name": "ipython",
    "version": 3
   },
   "file_extension": ".py",
   "mimetype": "text/x-python",
   "name": "python",
   "nbconvert_exporter": "python",
   "pygments_lexer": "ipython3",
   "version": "3.6.13"
  }
 },
 "nbformat": 4,
 "nbformat_minor": 5
}
