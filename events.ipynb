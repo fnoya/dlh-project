{
 "cells": [
  {
   "cell_type": "code",
   "execution_count": 1,
   "id": "prescription-illustration",
   "metadata": {},
   "outputs": [
    {
     "name": "stdout",
     "output_type": "stream",
     "text": [
      "Requirement already satisfied: PyAthena in /home/ec2-user/anaconda3/envs/pytorch_p36/lib/python3.6/site-packages (2.2.0)\n",
      "Requirement already satisfied: tenacity>=4.1.0 in /home/ec2-user/anaconda3/envs/pytorch_p36/lib/python3.6/site-packages (from PyAthena) (7.0.0)\n",
      "Requirement already satisfied: boto3>=1.4.4 in /home/ec2-user/anaconda3/envs/pytorch_p36/lib/python3.6/site-packages (from PyAthena) (1.17.35)\n",
      "Requirement already satisfied: botocore>=1.5.52 in /home/ec2-user/anaconda3/envs/pytorch_p36/lib/python3.6/site-packages (from PyAthena) (1.20.35)\n",
      "Requirement already satisfied: jmespath<1.0.0,>=0.7.1 in /home/ec2-user/anaconda3/envs/pytorch_p36/lib/python3.6/site-packages (from boto3>=1.4.4->PyAthena) (0.10.0)\n",
      "Requirement already satisfied: s3transfer<0.4.0,>=0.3.0 in /home/ec2-user/anaconda3/envs/pytorch_p36/lib/python3.6/site-packages (from boto3>=1.4.4->PyAthena) (0.3.4)\n",
      "Requirement already satisfied: python-dateutil<3.0.0,>=2.1 in /home/ec2-user/anaconda3/envs/pytorch_p36/lib/python3.6/site-packages (from botocore>=1.5.52->PyAthena) (2.8.1)\n",
      "Requirement already satisfied: urllib3<1.27,>=1.25.4 in /home/ec2-user/anaconda3/envs/pytorch_p36/lib/python3.6/site-packages (from botocore>=1.5.52->PyAthena) (1.26.3)\n",
      "Requirement already satisfied: six>=1.5 in /home/ec2-user/anaconda3/envs/pytorch_p36/lib/python3.6/site-packages (from python-dateutil<3.0.0,>=2.1->botocore>=1.5.52->PyAthena) (1.15.0)\n"
     ]
    }
   ],
   "source": [
    "!pip install PyAthena\n",
    "from pyathena import connect\n",
    "from pyathena.pandas.util import as_pandas\n",
    "\n",
    "\n",
    "# Import libraries\n",
    "import datetime\n",
    "import numpy as np\n",
    "import pandas as pd\n",
    "import matplotlib.pyplot as plt\n",
    "import os\n",
    "import boto3\n",
    "from botocore.client import ClientError\n",
    "from IPython.display import display, HTML\n",
    "import pickle\n",
    "%matplotlib inline\n",
    "\n",
    "\n",
    "s3 = boto3.resource('s3')\n",
    "client = boto3.client(\"sts\")\n",
    "account_id = client.get_caller_identity()[\"Account\"]\n",
    "my_session = boto3.session.Session()\n",
    "region = my_session.region_name\n",
    "athena_query_results_bucket = 'aws-athena-query-results-'+account_id+'-'+region\n",
    "\n",
    "try:\n",
    "    s3.meta.client.head_bucket(Bucket=athena_query_results_bucket)\n",
    "except ClientError:\n",
    "    bucket = s3.create_bucket(Bucket=athena_query_results_bucket)\n",
    "    print('Creating bucket '+athena_query_results_bucket)\n",
    "cursor = connect(s3_staging_dir='s3://'+athena_query_results_bucket+'/athena/temp').cursor()"
   ]
  },
  {
   "cell_type": "markdown",
   "id": "separate-agreement",
   "metadata": {},
   "source": [
    "## Diabetic patients cohort"
   ]
  },
  {
   "cell_type": "code",
   "execution_count": null,
   "id": "ranking-employment",
   "metadata": {},
   "outputs": [],
   "source": [
    "#cohort_table = \"default.diabetic_patients_cohort\"     ## FULL COHORT\n",
    "#subject_id_col = \"subject_id\"                         ## FULL COHORT\n",
    "#prefix = \"\"                                           ## FULL COHORT\n",
    "\n",
    "#cohort_table = \"default.train_cohort2\"                ## BALANCED COHORT - TRAINING\n",
    "#prefix = \"balanced_train_\"                            ## BALANCED COHORT - TRAINING\n",
    "subject_id_col = \"new_subject_id\"                      ## BALANCED COHORT - TRAINING\n",
    "\n",
    "cohort_table = \"default.test_cohort\"                   ## BALANCED COHORT - TESTING\n",
    "prefix = \"balanced_test_\"                              ## BALANCED COHORT - TESTING\n",
    "subject_id_col = \"subject_id\"                      ## BALANCED COHORT - TESTING\n",
    "\n",
    "query='select * from default.diabetic_patients_cohort order by subject_id'\n",
    "cursor.execute(query)\n",
    "patients = as_pandas(cursor)\n",
    "\n",
    "query='select mortality_flag, count (distinct ' + subject_id_col + ') from ' + cohort_table +' group by mortality_flag'\n",
    "cursor.execute(query)\n",
    "mf = as_pandas(cursor)\n",
    "mf.head()"
   ]
  },
  {
   "cell_type": "markdown",
   "id": "desperate-effectiveness",
   "metadata": {},
   "source": [
    "## Selected ICD9 codes"
   ]
  },
  {
   "cell_type": "code",
   "execution_count": null,
   "id": "upset-conditioning",
   "metadata": {},
   "outputs": [],
   "source": [
    "chartevents_codes = [\n",
    "    ['Capillary refill rate', 3348, 224308, 223951, 8377, 115],\n",
    "    ['Diastolic blood pressure', 8364, 225310, 228151, 8555, 8368, 220051, 8502, 8503, 8504, 8505, 8506, 8507, 8508, 153, 8440, 224643, 227242, 8441, 220180, 8444, 8445, 8446, 8448, 220060],\n",
    "    ['Fraction inspired oxygen', 7146, 226767, 227035, 228192, 228193, 228232],\n",
    "    ['Glascow coma scale eye opening', 184, 220739],\n",
    "    ['Glascow coma scale motor response', 223901, 226757],\n",
    "    ['Glascow coma scale total', 198],\n",
    "    ['Glascow coma scale verbal response', 223900, 226758],\n",
    "    ['Glucose', 3744, 3745, 1310, 807, 1529, 811, 220621, 226537, 3447, 225664],\n",
    "    ['Heart Rate', 211, 220045],\n",
    "    ['Height', 226730],\n",
    "    ['Mean blood pressure', 225312, 52, 6702, 220052, 6927, 3312, 3314, 3316, 7618, 3318, 3320, 3322, 7620, 7622, 3324, 5702, 443, 456, 220181],\n",
    "    ['Oxygen saturation', 0],\n",
    "    ['Respiratory rate', 220210, 618, 224688, 224690, 224689, 619],\n",
    "    ['Systolic blood pressure', 51, 225309, 220050, 3313, 3315, 3317, 3319, 3321, 3323, 3325, 442, 224167, 227243, 455, 220179, 480, 482, 484 ],\n",
    "    ['Temperature', 224027, 645, 8537, 676, 677, 223762, 678, 679, 223761],\n",
    "    ['Weight', 581],\n",
    "    ['pH', 1126, 780, 223830, 220274, 220734, 4753, 4202, 1365, 7717, 3839]\n",
    "]\n",
    "\n",
    "labevents_codes = [\n",
    "    ['Oxygen Saturation', 50817],\n",
    "    ['Temperature', 50825],\n",
    "    ['pH', 50820],\n",
    "    ['% Hemoglobin A1c', 50852, 50854],\n",
    "    ['Blood Glucose', 50931, 51529],\n",
    "    ['Serum Creatinine', 50912]    \n",
    "]"
   ]
  },
  {
   "cell_type": "code",
   "execution_count": null,
   "id": "valid-giant",
   "metadata": {},
   "outputs": [],
   "source": [
    "def create_codes_table():\n",
    "    cursor.execute(\"SHOW TABLES LIKE 'featurescodes'\")\n",
    "    if (cursor.fetchone() is None):\n",
    "        try:\n",
    "            query = \"create external table default.featurescodes  (code int, mimiciiitable string, feature string, icd9code int) stored as PARQUET location 's3://aws-athena-query-results-067114122515-us-east-1/featurescodes'\"\n",
    "            cursor.execute(query)\n",
    "            cnt = 0\n",
    "            for f in labevents_codes:\n",
    "                fn = f[0]\n",
    "                for c in f[1:]:\n",
    "                    query = \"insert into featurescodes values (\" + str(cnt) + \",'labevents','\" + fn +\"',\" + str(c) +\")\"\n",
    "                    cursor.execute(query)\n",
    "                    cnt += 1\n",
    "            for f in chartevents_codes:\n",
    "                fn = f[0]\n",
    "                for c in f[1:]:\n",
    "                    query = \"insert into featurescodes values (\" + str(cnt) + \",'chartevents','\" + fn +\"',\" + str(c) +\")\"\n",
    "                    cursor.execute(query)\n",
    "                    cnt += 1\n",
    "            print (\"featurescodes table created!\")\n",
    "        except Exception as e:\n",
    "            print (e)\n",
    "    else:\n",
    "        print (\"featurescodes table already exists.\")\n",
    "            "
   ]
  },
  {
   "cell_type": "code",
   "execution_count": null,
   "id": "worldwide-bathroom",
   "metadata": {},
   "outputs": [],
   "source": [
    "create_codes_table()"
   ]
  },
  {
   "cell_type": "markdown",
   "id": "signal-intranet",
   "metadata": {},
   "source": [
    "Item codes are unique among chart and lab events."
   ]
  },
  {
   "cell_type": "code",
   "execution_count": null,
   "id": "leading-figure",
   "metadata": {},
   "outputs": [],
   "source": [
    "cursor.execute(\"select count(*) from featurescodes f, featurescodes g where g.icd9code=f.icd9code and g.feature <> f.feature\")\n",
    "assert 0 == cursor.fetchone()[0], \"Different features have same code in featurescodes table!!!\""
   ]
  },
  {
   "cell_type": "markdown",
   "id": "final-retrieval",
   "metadata": {},
   "source": [
    "## Create joint events table"
   ]
  },
  {
   "cell_type": "code",
   "execution_count": null,
   "id": "outside-monster",
   "metadata": {},
   "outputs": [],
   "source": [
    "def create_joint_events():\n",
    "    cursor.execute(\"\"\"CREATE TABLE events AS \n",
    "                    SELECT p.\"\"\" + subject_id_col + \"\"\" as subject_id, e.itemid,\n",
    "                             e.charttime,\n",
    "                             e.valuenum,\n",
    "                             p.admit_time,\n",
    "                             p.discharge_time,\n",
    "                             p.mortality_flag\n",
    "                    FROM \"\"\" + cohort_table + \"\"\" p\n",
    "                    LEFT OUTER JOIN                              \n",
    "                    (SELECT subject_id,\n",
    "                             itemid,\n",
    "                             charttime,\n",
    "                             valuenum\n",
    "                    FROM mimiciii.labevents l\n",
    "                    INNER JOIN default.featurescodes f\n",
    "                        ON f.icd9code = l.itemid                    \n",
    "                    WHERE f.mimiciiitable='labevents'\n",
    "                    UNION\n",
    "                    SELECT subject_id,\n",
    "                             itemid,\n",
    "                             charttime,\n",
    "                             valuenum\n",
    "                    FROM mimiciii.chartevents c\n",
    "                    INNER JOIN default.featurescodes f\n",
    "                        ON f.icd9code = c.itemid                      \n",
    "                    WHERE f.mimiciiitable='chartevents') e ON e.subject_id=p.subject_id\n",
    "                    AND e.charttime < p.discharge_time - INTERVAL '48' HOUR\n",
    "                    ORDER BY  p.\"\"\" + subject_id_col + \"\"\", e.itemid, e.charttime\n",
    "    \"\"\")\n",
    "    "
   ]
  },
  {
   "cell_type": "code",
   "execution_count": null,
   "id": "political-muscle",
   "metadata": {},
   "outputs": [],
   "source": [
    "cursor.execute(\"SHOW TABLES LIKE 'events'\")\n",
    "if (cursor.fetchone() is None):\n",
    "    create_joint_events()"
   ]
  },
  {
   "cell_type": "code",
   "execution_count": null,
   "id": "northern-example",
   "metadata": {},
   "outputs": [],
   "source": [
    "def create_events_daystodischarge():\n",
    "    cursor.execute(\"\"\"CREATE TABLE events_daystodischarge AS SELECT subject_id,\n",
    "                             -date_diff('day', discharge_time, charttime) daystodischarge, itemid, valuenum, mortality_flag\n",
    "                    FROM events e\n",
    "                    ORDER BY  subject_id, daystodischarge desc, itemid\"\"\")"
   ]
  },
  {
   "cell_type": "code",
   "execution_count": null,
   "id": "fatal-lending",
   "metadata": {},
   "outputs": [],
   "source": [
    "cursor.execute(\"SHOW TABLES LIKE 'events_daystodischarge'\")\n",
    "if (cursor.fetchone() is None):\n",
    "    create_events_daystodischarge()"
   ]
  },
  {
   "cell_type": "markdown",
   "id": "interior-hydrogen",
   "metadata": {},
   "source": [
    "#### We took the average of the valuenum for each itemid on each day"
   ]
  },
  {
   "cell_type": "code",
   "execution_count": null,
   "id": "sufficient-playlist",
   "metadata": {},
   "outputs": [],
   "source": [
    "def create_events_features():\n",
    "    cursor.execute(\"\"\"CREATE TABLE events_features \n",
    "                    AS SELECT subject_id,\n",
    "                             daystodischarge,\n",
    "                             f.code,\n",
    "                             avg(valuenum) value,\n",
    "                             mortality_flag\n",
    "                    FROM events_daystodischarge e\n",
    "                    LEFT JOIN featurescodes f ON e.itemid=f.icd9code\n",
    "                    GROUP BY  subject_id, daystodischarge, f.code, mortality_flag\n",
    "                    ORDER BY  subject_id, daystodischarge desc, code\"\"\")\n"
   ]
  },
  {
   "cell_type": "code",
   "execution_count": null,
   "id": "upset-turner",
   "metadata": {},
   "outputs": [],
   "source": [
    "cursor.execute(\"SHOW TABLES LIKE 'events_features'\")\n",
    "if (cursor.fetchone() is None):\n",
    "    create_events_features()"
   ]
  },
  {
   "cell_type": "markdown",
   "id": "usual-hands",
   "metadata": {},
   "source": [
    "## Sanity check"
   ]
  },
  {
   "cell_type": "code",
   "execution_count": null,
   "id": "positive-witness",
   "metadata": {},
   "outputs": [],
   "source": [
    "cursor.execute(\"\"\"SELECT feature,\n",
    "                         avg(value) avg,\n",
    "                         stddev(value) dev,\n",
    "                         min(value) min,\n",
    "                         max(value) max,\n",
    "                         count(value) cnt\n",
    "                FROM events_features AS e\n",
    "                INNER JOIN featurescodes AS f\n",
    "                    ON e.code=f.code\n",
    "                WHERE value>0 and value<1000\n",
    "                GROUP BY  feature\n",
    "                ORDER BY  dev DESC \"\"\")\n",
    "df = as_pandas(cursor)\n",
    "df"
   ]
  },
  {
   "cell_type": "code",
   "execution_count": null,
   "id": "moved-serbia",
   "metadata": {},
   "outputs": [],
   "source": [
    "cursor.execute(\"\"\"\n",
    "                SELECT min(daystodischarge) minDays, max(daystodischarge) maxDays, avg(daystodischarge) avgDays, stddev(daystodischarge) stddevDays FROM events_features\"\"\")\n",
    "df = as_pandas(cursor)\n",
    "df"
   ]
  },
  {
   "cell_type": "code",
   "execution_count": null,
   "id": "contemporary-australia",
   "metadata": {},
   "outputs": [],
   "source": [
    "cursor.execute(\"\"\"\n",
    "                SELECT subject_id, count(distinct daystodischarge) cntDays FROM events_features GROUP BY subject_id\"\"\")\n",
    "df = as_pandas(cursor)"
   ]
  },
  {
   "cell_type": "code",
   "execution_count": null,
   "id": "printable-auckland",
   "metadata": {},
   "outputs": [],
   "source": [
    "print (\"Statistics of days to discharge\\n\", df['cntDays'].describe())\n",
    "print (\"\\n\\nMore than 180 days\\n\", df.loc[df['cntDays']>180, ['cntDays']].describe())"
   ]
  },
  {
   "cell_type": "code",
   "execution_count": null,
   "id": "lovely-inside",
   "metadata": {},
   "outputs": [],
   "source": [
    "cursor.execute(\"\"\"\n",
    "                SELECT mortality_flag, count(distinct \"\"\" +subject_id_col + \"\"\") cnt FROM \"\"\" + cohort_table + \"\"\" group by mortality_flag\"\"\")\n",
    "df = as_pandas(cursor)\n",
    "df"
   ]
  },
  {
   "cell_type": "code",
   "execution_count": null,
   "id": "polished-supply",
   "metadata": {},
   "outputs": [],
   "source": [
    "cursor.execute(\"\"\"\n",
    "                SELECT mortality_flag, count(*) cnt FROM events_features group by mortality_flag\"\"\")\n",
    "df = as_pandas(cursor)\n",
    "df"
   ]
  },
  {
   "cell_type": "markdown",
   "id": "earlier-attack",
   "metadata": {},
   "source": [
    "## Construction of Events dataframe"
   ]
  },
  {
   "cell_type": "code",
   "execution_count": null,
   "id": "developmental-humanity",
   "metadata": {},
   "outputs": [],
   "source": [
    "cursor.execute(\"select * from events_features order by subject_id, daystodischarge desc, code\")\n",
    "print (\"Query finished\")\n",
    "events = as_pandas(cursor)"
   ]
  },
  {
   "cell_type": "code",
   "execution_count": null,
   "id": "reported-queens",
   "metadata": {},
   "outputs": [],
   "source": [
    "num_pat = len(events['subject_id'].unique())"
   ]
  },
  {
   "cell_type": "code",
   "execution_count": null,
   "id": "written-skirt",
   "metadata": {},
   "outputs": [],
   "source": [
    "events['code'] = events['code'].fillna(0).astype(int)\n",
    "events['daystodischarge'] = events['daystodischarge'].fillna(0).astype(int)\n",
    "events['value'] = events['value'].fillna(0)"
   ]
  },
  {
   "cell_type": "code",
   "execution_count": null,
   "id": "invisible-trail",
   "metadata": {},
   "outputs": [],
   "source": [
    "events_item = events.groupby([events['subject_id'], events['daystodischarge']])['code'].apply(list).reset_index(name='codes')\n",
    "events_values = events.groupby([events['subject_id'], events['daystodischarge']])['value'].apply(list).reset_index(name='values')\n",
    "assert len(events_item['subject_id'].unique()) == num_pat, 'Wrong number of patients in events_item'\n",
    "assert len(events_values['subject_id'].unique()) == num_pat, 'Wrong number of patients in events_values'"
   ]
  },
  {
   "cell_type": "code",
   "execution_count": null,
   "id": "wrong-lyric",
   "metadata": {},
   "outputs": [],
   "source": [
    "pickle.dump( events_item, open(prefix + \"events_item.p\", \"wb\" ) )\n",
    "pickle.dump( events_values, open(prefix + \"events_value.p\", \"wb\"))\n",
    "pickle.dump( patients, open(prefix + \"patients.p\", \"wb\"))"
   ]
  },
  {
   "cell_type": "code",
   "execution_count": null,
   "id": "sonic-wildlife",
   "metadata": {},
   "outputs": [],
   "source": [
    "ei = pickle.load( open( prefix+\"events_item.p\", \"rb\" ) )\n",
    "\n",
    "assert len(ei[ei['subject_id']==13]['codes']) == len(events_item[events_item['subject_id']==13]['codes']), \"Wrong serialization!!\"\n",
    "assert len(ei)==len(events_item, ), \"Wrong serialization!!\"\n",
    "\n",
    "ei = pickle.load(open(prefix+\"events_value.p\", \"rb\") )\n",
    "#assert ei[ei['subject_id']==13]['values'][0] == events_values[events_values['subject_id']==13]['values'][0], \"Wrong serialization!!\"\n",
    "assert len(ei)==len(events_item), \"Wrong serialization!!\"\n",
    "\n",
    "ei = pickle.load(open(prefix+'patients.p', 'rb'))\n",
    "assert int(ei[ei['subject_id']==2511]['mortality_flag']) == int(patients[patients['subject_id']==2511]['mortality_flag'])"
   ]
  },
  {
   "cell_type": "code",
   "execution_count": null,
   "id": "utility-victor",
   "metadata": {},
   "outputs": [],
   "source": [
    "cursor.execute('select max(code) from featurescodes')\n",
    "max_code = int(cursor.fetchone()[0])"
   ]
  },
  {
   "cell_type": "code",
   "execution_count": null,
   "id": "portuguese-oklahoma",
   "metadata": {},
   "outputs": [],
   "source": [
    "pickle.dump(max_code, open(\"events_maxcode.p\", \"wb\"))"
   ]
  },
  {
   "cell_type": "markdown",
   "id": "dangerous-luxury",
   "metadata": {},
   "source": [
    "#### Maximum days per patient"
   ]
  },
  {
   "cell_type": "code",
   "execution_count": null,
   "id": "packed-fields",
   "metadata": {},
   "outputs": [],
   "source": [
    "dtod = events_item.groupby('subject_id').max('daystodischarge').sort_values(['daystodischarge'])\n",
    "dtod"
   ]
  },
  {
   "cell_type": "markdown",
   "id": "minimal-donna",
   "metadata": {},
   "source": [
    "## Patients without data (days to discharge < 2)"
   ]
  },
  {
   "cell_type": "code",
   "execution_count": null,
   "id": "reasonable-spyware",
   "metadata": {},
   "outputs": [],
   "source": [
    "dtod[dtod['daystodischarge']==0].sort_values(['subject_id'])"
   ]
  },
  {
   "cell_type": "code",
   "execution_count": null,
   "id": "tired-begin",
   "metadata": {},
   "outputs": [],
   "source": [
    "print (\"## Number of patients without data: \", len(dtod[dtod['daystodischarge']==0]))"
   ]
  },
  {
   "cell_type": "code",
   "execution_count": null,
   "id": "novel-connecticut",
   "metadata": {},
   "outputs": [],
   "source": []
  }
 ],
 "metadata": {
  "kernelspec": {
   "display_name": "conda_pytorch_p36",
   "language": "python",
   "name": "conda_pytorch_p36"
  },
  "language_info": {
   "codemirror_mode": {
    "name": "ipython",
    "version": 3
   },
   "file_extension": ".py",
   "mimetype": "text/x-python",
   "name": "python",
   "nbconvert_exporter": "python",
   "pygments_lexer": "ipython3",
   "version": "3.6.13"
  }
 },
 "nbformat": 4,
 "nbformat_minor": 5
}
