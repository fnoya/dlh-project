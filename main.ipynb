{
 "metadata": {
  "language_info": {
   "codemirror_mode": {
    "name": "ipython",
    "version": 3
   },
   "file_extension": ".py",
   "mimetype": "text/x-python",
   "name": "python",
   "nbconvert_exporter": "python",
   "pygments_lexer": "ipython3",
   "version": "3.6.8"
  },
  "orig_nbformat": 2,
  "kernelspec": {
   "name": "python368jvsc74a57bd0372d86228f3adce91ee8f73488429c59d9cef194793ee1ea2efae707e6a5484f",
   "display_name": "Python 3.6.8 64-bit"
  }
 },
 "nbformat": 4,
 "nbformat_minor": 2,
 "cells": [
  {
   "source": [
    "# Main program"
   ],
   "cell_type": "markdown",
   "metadata": {}
  },
  {
   "cell_type": "code",
   "execution_count": null,
   "metadata": {},
   "outputs": [],
   "source": [
    "%run notes_events_network_join.ipynb"
   ]
  },
  {
   "cell_type": "code",
   "execution_count": null,
   "metadata": {},
   "outputs": [],
   "source": [
    "learning_rate = 0.001\n",
    "n_epochs = 10\n",
    "criterion = nn.BCELoss()\n",
    "print('Learning Rate: ' + str(learning_rate))\n",
    "print (\"Number of Epochs: \" + str(n_epochs))\n",
    "\n",
    "print ('')\n",
    "print ('--------------')\n",
    "print ('Original model')\n",
    "print ('--------------')\n",
    "model, optimizer = create_model_and_optimizer()\n",
    "train_loader, val_loader = get_unbalanced_dataloaders()   # You can pass a number to limit the number of samples\n",
    "train_and_eval(model, train_loader, val_loader, n_epochs, 'unbalanced_model.pt')\n",
    "#load_and_eval(model, 'unbalanced_model.pt', val_loader)\n"
   ]
  },
  {
   "cell_type": "code",
   "execution_count": null,
   "metadata": {},
   "outputs": [],
   "source": [
    "learning_rate = 0.0001\n",
    "n_epochs = 10\n",
    "criterion = nn.BCELoss()\n",
    "print('Learning Rate: ' + str(learning_rate))\n",
    "print (\"Number of Epochs: \" + str(n_epochs))\n",
    "print ('')\n",
    "print ('')\n",
    "print ('--------------')\n",
    "print ('Balanced model')\n",
    "print ('--------------')\n",
    "model, optimizer = create_model_and_optimizer()\n",
    "train_loader, val_loader = get_balanced_dataloaders()       # You can pass a number to limit the number of samples\n",
    "train_and_eval(model, train_loader, val_loader, n_epochs, 'balanced_model.pt')\n",
    "#load_and_eval(model, 'balanced_model.pt', val_loader)\n"
   ]
  }
 ]
}