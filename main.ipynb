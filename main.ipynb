{
 "cells": [
  {
   "cell_type": "markdown",
   "metadata": {},
   "source": [
    "# Main program"
   ]
  },
  {
   "cell_type": "code",
   "execution_count": 1,
   "metadata": {},
   "outputs": [
    {
     "output_type": "stream",
     "name": "stdout",
     "text": [
      "Requirement already satisfied: nbformat in c:\\users\\fnoya\\appdata\\local\\programs\\python\\python36\\lib\\site-packages (5.1.3)\nRequirement already satisfied: jupyter-core in c:\\users\\fnoya\\appdata\\local\\programs\\python\\python36\\lib\\site-packages (from nbformat) (4.7.1)\nRequirement already satisfied: ipython-genutils in c:\\users\\fnoya\\appdata\\local\\programs\\python\\python36\\lib\\site-packages (from nbformat) (0.2.0)\nRequirement already satisfied: traitlets>=4.1 in c:\\users\\fnoya\\appdata\\local\\programs\\python\\python36\\lib\\site-packages (from nbformat) (4.3.3)\nRequirement already satisfied: jsonschema!=2.5.0,>=2.4 in c:\\users\\fnoya\\appdata\\local\\programs\\python\\python36\\lib\\site-packages (from nbformat) (3.2.0)\nRequirement already satisfied: six>=1.11.0 in c:\\users\\fnoya\\appdata\\local\\programs\\python\\python36\\lib\\site-packages (from jsonschema!=2.5.0,>=2.4->nbformat) (1.15.0)\nRequirement already satisfied: importlib-metadata in c:\\users\\fnoya\\appdata\\local\\programs\\python\\python36\\lib\\site-packages (from jsonschema!=2.5.0,>=2.4->nbformat) (4.0.1)\nRequirement already satisfied: setuptools in c:\\users\\fnoya\\appdata\\local\\programs\\python\\python36\\lib\\site-packages (from jsonschema!=2.5.0,>=2.4->nbformat) (40.6.2)\nRequirement already satisfied: pyrsistent>=0.14.0 in c:\\users\\fnoya\\appdata\\local\\programs\\python\\python36\\lib\\site-packages (from jsonschema!=2.5.0,>=2.4->nbformat) (0.17.3)\nRequirement already satisfied: attrs>=17.4.0 in c:\\users\\fnoya\\appdata\\local\\programs\\python\\python36\\lib\\site-packages (from jsonschema!=2.5.0,>=2.4->nbformat) (20.3.0)\nRequirement already satisfied: decorator in c:\\users\\fnoya\\appdata\\local\\programs\\python\\python36\\lib\\site-packages (from traitlets>=4.1->nbformat) (5.0.7)\nRequirement already satisfied: zipp>=0.5 in c:\\users\\fnoya\\appdata\\local\\programs\\python\\python36\\lib\\site-packages (from importlib-metadata->jsonschema!=2.5.0,>=2.4->nbformat) (3.4.1)\nRequirement already satisfied: typing-extensions>=3.6.4 in c:\\users\\fnoya\\appdata\\local\\programs\\python\\python36\\lib\\site-packages (from importlib-metadata->jsonschema!=2.5.0,>=2.4->nbformat) (3.7.4.3)\nRequirement already satisfied: pywin32>=1.0 in c:\\users\\fnoya\\appdata\\local\\programs\\python\\python36\\lib\\site-packages (from jupyter-core->nbformat) (300)\nUsing device: cpu\n\n"
     ]
    }
   ],
   "source": [
    "%run notes_events_network_join.ipynb"
   ]
  },
  {
   "cell_type": "code",
   "execution_count": null,
   "metadata": {},
   "outputs": [],
   "source": [
    "learning_rate = 0.001\n",
    "n_epochs = 10\n",
    "criterion = nn.BCELoss()\n",
    "print('Learning Rate: ' + str(learning_rate))\n",
    "print (\"Number of Epochs: \" + str(n_epochs))\n",
    "\n",
    "print ('')\n",
    "print ('--------------')\n",
    "print ('Original model')\n",
    "print ('--------------')\n",
    "model, optimizer = create_model_and_optimizer()\n",
    "train_loader, val_loader = get_unbalanced_dataloaders()   # You can pass a number to limit the number of samples\n",
    "train_and_eval(model, train_loader, val_loader, n_epochs, 'unbalanced_model.pt')\n",
    "#load_and_eval(model, 'unbalanced_model.pt', val_loader)\n"
   ]
  },
  {
   "cell_type": "code",
   "execution_count": null,
   "metadata": {},
   "outputs": [],
   "source": [
    "learning_rate = 0.0001\n",
    "n_epochs = 10\n",
    "criterion = nn.BCELoss()\n",
    "print('Learning Rate: ' + str(learning_rate))\n",
    "print (\"Number of Epochs: \" + str(n_epochs))\n",
    "print ('')\n",
    "print ('')\n",
    "print ('--------------')\n",
    "print ('Balanced model')\n",
    "print ('--------------')\n",
    "model, optimizer = create_model_and_optimizer()\n",
    "train_loader, val_loader = get_balanced_dataloaders()       # You can pass a number to limit the number of samples\n",
    "train_and_eval(model, train_loader, val_loader, n_epochs, 'balanced_model.pt')\n",
    "#load_and_eval(model, 'balanced_model.pt', val_loader)\n"
   ]
  },
  {
   "cell_type": "code",
   "execution_count": 2,
   "metadata": {},
   "outputs": [
    {
     "output_type": "stream",
     "name": "stdout",
     "text": [
      "Learning Rate: 0.0001\n",
      "Number of Epochs: 10\n",
      "\n",
      "--------------\n",
      "Essential model\n",
      "--------------\n",
      "Number of Patients: 9822\n",
      "Batch : 10, 20, 30, 40, 50, 60, 70, 80, 90, 100, 110, 120, 130, 140, 150, Epoch 0: curr_epoch_loss=0.4120945930480957\n",
      "Batch : 10, 20, 30, 40, 50, 60, 70, 80, 90, 100, 110, 120, 130, 140, 150, Epoch 1: curr_epoch_loss=0.3340100049972534\n",
      "Batch : 10, 20, 30, 40, 50, 60, 70, 80, 90, 100, 110, 120, 130, 140, 150, Epoch 2: curr_epoch_loss=0.27949798107147217\n",
      "Batch : 10, 20, 30, 40, 50, 60, 70, 80, 90, 100, 110, 120, 130, 140, 150, Epoch 3: curr_epoch_loss=0.24373090267181396\n",
      "Batch : 10, 20, 30, 40, 50, 60, 70, 80, 90, 100, 110, 120, 130, 140, 150, Epoch 4: curr_epoch_loss=0.21584276854991913\n",
      "Batch : 10, 20, 30, 40, 50, 60, 70, 80, 90, 100, 110, 120, 130, 140, 150, Epoch 5: curr_epoch_loss=0.18699096143245697\n",
      "Batch : 10, 20, 30, 40, 50, 60, 70, 80, 90, 100, 110, 120, 130, 140, 150, Epoch 6: curr_epoch_loss=0.16760335862636566\n",
      "Batch : 10, 20, 30, 40, 50, 60, 70, 80, 90, 100, 110, 120, 130, 140, 150, Epoch 7: curr_epoch_loss=0.14225904643535614\n",
      "Batch : 10, 20, 30, 40, 50, 60, 70, 80, 90, 100, 110, 120, 130, 140, 150, Epoch 8: curr_epoch_loss=0.1249520406126976\n",
      "Batch : 10, 20, 30, 40, 50, 60, 70, 80, 90, 100, 110, 120, 130, 140, 150, Epoch 9: curr_epoch_loss=0.10649015009403229\n",
      "Model Training time: 7964.244830369949\n",
      "Learning rate: 0.0001\n",
      "Model Training time: 7964.244830369949\n",
      "Precision =  0.6226415094339622\n",
      "Recall    =  0.38976377952755903\n",
      "F1        =  0.4794188861985472\n",
      "ROC AUC   =  0.8665029889966267\n",
      "0.6226415094339622 \t 0.38976377952755903 \t 0.4794188861985472 \t 0.8665029889966267\n"
     ]
    },
    {
     "output_type": "execute_result",
     "data": {
      "text/plain": [
       "(0.6226415094339622,\n",
       " 0.38976377952755903,\n",
       " 0.4794188861985472,\n",
       " 0.8665029889966267)"
      ]
     },
     "metadata": {},
     "execution_count": 2
    }
   ],
   "source": [
    "learning_rate = 0.0001\n",
    "n_epochs = 10\n",
    "criterion = nn.BCELoss()\n",
    "max_code = 64\n",
    "print('Learning Rate: ' + str(learning_rate))\n",
    "print (\"Number of Epochs: \" + str(n_epochs))\n",
    "\n",
    "print ('')\n",
    "print ('--------------')\n",
    "print ('Essential model')\n",
    "print ('--------------')\n",
    "model, optimizer = create_model_and_optimizer()\n",
    "train_loader, val_loader = get_essential_dataloaders()   # You can pass a number to limit the number of samples\n",
    "train_and_eval(model, train_loader, val_loader, n_epochs, 'essential_model.pt')\n",
    "#load_and_eval(model, 'essential_model.pt', val_loader)"
   ]
  }
 ],
 "metadata": {
  "kernelspec": {
   "name": "python368jvsc74a57bd0372d86228f3adce91ee8f73488429c59d9cef194793ee1ea2efae707e6a5484f",
   "display_name": "Python 3.6.8 64-bit"
  },
  "language_info": {
   "codemirror_mode": {
    "name": "ipython",
    "version": 3
   },
   "file_extension": ".py",
   "mimetype": "text/x-python",
   "name": "python",
   "nbconvert_exporter": "python",
   "pygments_lexer": "ipython3",
   "version": "3.6.8"
  }
 },
 "nbformat": 4,
 "nbformat_minor": 2
}