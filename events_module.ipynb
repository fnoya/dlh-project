{
 "metadata": {
  "language_info": {
   "codemirror_mode": {
    "name": "ipython",
    "version": 3
   },
   "file_extension": ".py",
   "mimetype": "text/x-python",
   "name": "python",
   "nbconvert_exporter": "python",
   "pygments_lexer": "ipython3",
   "version": "3.6.8"
  },
  "orig_nbformat": 2,
  "kernelspec": {
   "name": "python368jvsc74a57bd0372d86228f3adce91ee8f73488429c59d9cef194793ee1ea2efae707e6a5484f",
   "display_name": "Python 3.6.8 64-bit"
  }
 },
 "nbformat": 4,
 "nbformat_minor": 2,
 "cells": [
  {
   "source": [
    "# Events Module\n",
    "We are going to implement an attention mechanism similar to RETAIN (https://arxiv.org/abs/1608.05745).\n",
    "\n",
    "alpha will be a scalar attention which will measure the importance of the events of particular day in the final output.\n",
    "beta will be a vector of attention weights which will measure the importance of each type of event (feature) in the final output."
   ],
   "cell_type": "markdown",
   "metadata": {}
  },
  {
   "cell_type": "code",
   "execution_count": 3,
   "metadata": {},
   "outputs": [],
   "source": [
    "import torch\n",
    "import torch.nn as nn\n",
    "import torch.nn.functional as F"
   ]
  },
  {
   "source": [
    "## Alpha Attention"
   ],
   "cell_type": "markdown",
   "metadata": {}
  },
  {
   "cell_type": "code",
   "execution_count": 4,
   "metadata": {},
   "outputs": [],
   "source": [
    "class AlphaAttention(torch.nn.Module):\n",
    "    \"\"\"\n",
    "    Alpha attention mechanism to compute the attention weights corresponding to each date with events data.\n",
    "    \"\"\"\n",
    "\n",
    "    def __init__(self, hidden_dim):\n",
    "        super().__init__()\n",
    "        \"\"\"        \n",
    "        Arguments:\n",
    "            hidden_dim: the hidden layer dimension\n",
    "        \"\"\"\n",
    "        \n",
    "        self.a_att = nn.Linear(hidden_dim, 1)\n",
    "\n",
    "    def forward(self, g):\n",
    "        \"\"\"        \n",
    "        Arguments:\n",
    "            g: the output tensor from RNN-alpha of shape (batch_size, seq_length, hidden_dim) \n",
    "        \n",
    "        Outputs:\n",
    "            alpha: the corresponding attention weights of shape (batch_size, seq_length, 1)\n",
    "            \n",
    "        \"\"\"\n",
    "        \n",
    "        return F.softmax(self.a_att(g), dim=1)"
   ]
  },
  {
   "source": [
    "## Beta attention"
   ],
   "cell_type": "markdown",
   "metadata": {}
  },
  {
   "cell_type": "code",
   "execution_count": 5,
   "metadata": {},
   "outputs": [],
   "source": [
    "class BetaAttention(torch.nn.Module):\n",
    "    \"\"\"\n",
    "    Beta attention mechanism to compute the attention weights corresponding to each event code.\n",
    "    \"\"\"\n",
    "\n",
    "    def __init__(self, input_dim, emb_dim):\n",
    "        super().__init__()\n",
    "        \"\"\"\n",
    "        Arguments:\n",
    "            input_dim: the hidden layer dimension\n",
    "            emb_dim: the number of events codes\n",
    "        \"\"\"\n",
    "        \n",
    "        self.b_att = nn.Linear(input_dim, emb_dim)\n",
    "\n",
    "\n",
    "    def forward(self, h):\n",
    "        \"\"\"\n",
    "        Arguments:\n",
    "            h: the output tensor from RNN-beta of shape (batch_size, seq_length, input_dim) \n",
    "        \n",
    "        Outputs:\n",
    "            beta: the corresponding attention weights of shape (batch_size, seq_length, # of events codes)\n",
    "        \"\"\"\n",
    "        \n",
    "        return torch.tanh(self.b_att(h))"
   ]
  },
  {
   "source": [
    "## Events RNN with Attention (similar to RETAIN)"
   ],
   "cell_type": "markdown",
   "metadata": {}
  },
  {
   "cell_type": "code",
   "execution_count": 9,
   "metadata": {},
   "outputs": [],
   "source": [
    "class EventsRNN(nn.Module):\n",
    "    \n",
    "    def attention_sum(self, alpha, beta, x, masks):\n",
    "        \"\"\"\n",
    "            Performs the weighted sum of the events data using alpha and beta attention weights. \n",
    "            It also sets to 0 the positions corresponding to dates without events data using the masks information.\n",
    "\n",
    "        Arguments:\n",
    "            alpha: the alpha attention weights of shape (batch_size, seq_length, 1)\n",
    "            beta: the beta attention weights of shape (batch_size, seq_length, hidden_dim)\n",
    "            x: the events data for each date with shape (batch_size, # of dates, # of events codes)\n",
    "            masks: the padding masks in time of shape (batch_size, # of dates, # of events codes)\n",
    "\n",
    "        Outputs:\n",
    "            c: the context vector of shape (batch_size, hidden_dim)\n",
    "        \"\"\"\n",
    "        \n",
    "        masks = masks.unsqueeze(-1)\n",
    "        return torch.sum( beta * x * alpha * masks , dim=1 )\n",
    "\n",
    "\n",
    "    def __init__(self, num_codes, emb_size=128):\n",
    "        super().__init__()\n",
    "\n",
    "        # Define the RNN-alpha using `nn.GRU()`\n",
    "        self.rnn_a = nn.GRU(num_codes, 128, batch_first=True)\n",
    "        # Define the RNN-beta using `nn.GRU()`\n",
    "        self.rnn_b = nn.GRU(num_codes, 128, batch_first=True)\n",
    "        # Define the alpha-attention using `AlphaAttention()`\n",
    "        self.att_a = AlphaAttention(128)\n",
    "        # Define the beta-attention using `BetaAttention()`\n",
    "        self.att_b = BetaAttention(128, num_codes)\n",
    "        # Define the linear layers using `nn.Linear()`\n",
    "        self.fc = nn.Linear(num_codes, emb_size)\n",
    "        # Define the final activation layer using `nn.Sigmoid().\n",
    "        self.sigmoid = nn.Sigmoid()\n",
    "\n",
    "    \n",
    "    def forward(self, events, masks):\n",
    "\n",
    "        # Pass the events data through RNN-alpha\n",
    "        g, _ = self.rnn_a(events)\n",
    "        # Pass the events data through RNN-beta\n",
    "        h, _ = self.rnn_b(events)\n",
    "        # Obtain the alpha and beta attentions using `AlphaAttention()` and `BetaAttention()`;\n",
    "        alpha = self.att_a(g)\n",
    "        beta = self.att_b(h)\n",
    "        # Perform the weighted sum of the events data using the attention weights for the dates with events data\n",
    "        c = self.attention_sum(alpha, beta, events, masks)\n",
    "        # Pass the context vector through the linear and activation layers.\n",
    "        logits = self.fc(c)\n",
    "        probs = self.sigmoid(logits)\n",
    "        return probs.squeeze()"
   ]
  }
 ]
}