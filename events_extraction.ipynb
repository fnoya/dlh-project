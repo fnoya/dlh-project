{
 "cells": [
  {
   "source": [
    "# Lab and Chart Events\n",
    "## Data Extraction and Preparation"
   ],
   "cell_type": "markdown",
   "metadata": {}
  },
  {
   "source": [
    "### Setup\n",
    "We are keeping the MIMIC III tables in AWS Athena to use standard SQL queries to extract the data.\n",
    "The outputs are saved into *pickle* files for further use.\n",
    "\n",
    "Here we setup the connection to Athena by indicating the S3 buckets were the MIMIC III files (in *parquet* format)."
   ],
   "cell_type": "markdown",
   "metadata": {}
  },
  {
   "cell_type": "code",
   "execution_count": 1,
   "id": "bf79721c",
   "metadata": {},
   "outputs": [
    {
     "name": "stdout",
     "output_type": "stream",
     "text": [
      "Collecting PyAthena\n",
      "  Downloading PyAthena-2.2.0-py3-none-any.whl (37 kB)\n",
      "Requirement already satisfied: botocore>=1.5.52 in /home/ec2-user/anaconda3/envs/pytorch_p36/lib/python3.6/site-packages (from PyAthena) (1.20.55)\n",
      "Collecting tenacity>=4.1.0\n",
      "  Downloading tenacity-7.0.0-py2.py3-none-any.whl (23 kB)\n",
      "Requirement already satisfied: boto3>=1.4.4 in /home/ec2-user/anaconda3/envs/pytorch_p36/lib/python3.6/site-packages (from PyAthena) (1.17.55)\n",
      "Requirement already satisfied: s3transfer<0.5.0,>=0.4.0 in /home/ec2-user/anaconda3/envs/pytorch_p36/lib/python3.6/site-packages (from boto3>=1.4.4->PyAthena) (0.4.1)\n",
      "Requirement already satisfied: jmespath<1.0.0,>=0.7.1 in /home/ec2-user/anaconda3/envs/pytorch_p36/lib/python3.6/site-packages (from boto3>=1.4.4->PyAthena) (0.10.0)\n",
      "Requirement already satisfied: python-dateutil<3.0.0,>=2.1 in /home/ec2-user/anaconda3/envs/pytorch_p36/lib/python3.6/site-packages (from botocore>=1.5.52->PyAthena) (2.8.1)\n",
      "Requirement already satisfied: urllib3<1.27,>=1.25.4 in /home/ec2-user/anaconda3/envs/pytorch_p36/lib/python3.6/site-packages (from botocore>=1.5.52->PyAthena) (1.26.4)\n",
      "Requirement already satisfied: six>=1.5 in /home/ec2-user/anaconda3/envs/pytorch_p36/lib/python3.6/site-packages (from python-dateutil<3.0.0,>=2.1->botocore>=1.5.52->PyAthena) (1.15.0)\n",
      "Installing collected packages: tenacity, PyAthena\n",
      "Successfully installed PyAthena-2.2.0 tenacity-7.0.0\n"
     ]
    }
   ],
   "source": [
    "!pip install PyAthena\n",
    "from pyathena import connect\n",
    "from pyathena.pandas.util import as_pandas\n",
    "\n",
    "\n",
    "# Import libraries\n",
    "import datetime\n",
    "import numpy as np\n",
    "import pandas as pd\n",
    "import matplotlib.pyplot as plt\n",
    "import os\n",
    "import boto3\n",
    "from botocore.client import ClientError\n",
    "from IPython.display import display, HTML\n",
    "import pickle\n",
    "%matplotlib inline\n",
    "\n",
    "\n",
    "s3 = boto3.resource('s3')\n",
    "client = boto3.client(\"sts\")\n",
    "account_id = client.get_caller_identity()[\"Account\"]\n",
    "my_session = boto3.session.Session()\n",
    "region = my_session.region_name\n",
    "athena_query_results_bucket = 'aws-athena-query-results-'+account_id+'-'+region\n",
    "\n",
    "try:\n",
    "    s3.meta.client.head_bucket(Bucket=athena_query_results_bucket)\n",
    "except ClientError:\n",
    "    bucket = s3.create_bucket(Bucket=athena_query_results_bucket)\n",
    "    print('Creating bucket '+athena_query_results_bucket)\n",
    "cursor = connect(s3_staging_dir='s3://'+athena_query_results_bucket+'/athena/temp').cursor()"
   ]
  },
  {
   "cell_type": "markdown",
   "id": "6c439687",
   "metadata": {},
   "source": [
    "## Diabetic patients cohort\n",
    "\n",
    "We have two cohorts.  The diabetic patients in the MIMIC III database have class imbalanced for 'dead' (1217) and 'alive' (8605) outcomes.\n",
    "\n",
    "To overcome this issue we created a *balanced* cohort by means of oversampling (see details in `sql_queries.ipynb`)."
   ]
  },
  {
   "cell_type": "code",
   "execution_count": 2,
   "id": "f92068c7",
   "metadata": {},
   "outputs": [
    {
     "data": {
      "text/html": [
       "<div>\n",
       "<style scoped>\n",
       "    .dataframe tbody tr th:only-of-type {\n",
       "        vertical-align: middle;\n",
       "    }\n",
       "\n",
       "    .dataframe tbody tr th {\n",
       "        vertical-align: top;\n",
       "    }\n",
       "\n",
       "    .dataframe thead th {\n",
       "        text-align: right;\n",
       "    }\n",
       "</style>\n",
       "<table border=\"1\" class=\"dataframe\">\n",
       "  <thead>\n",
       "    <tr style=\"text-align: right;\">\n",
       "      <th></th>\n",
       "      <th>mortality_flag</th>\n",
       "      <th>_col1</th>\n",
       "    </tr>\n",
       "  </thead>\n",
       "  <tbody>\n",
       "    <tr>\n",
       "      <th>0</th>\n",
       "      <td>1</td>\n",
       "      <td>1217</td>\n",
       "    </tr>\n",
       "    <tr>\n",
       "      <th>1</th>\n",
       "      <td>0</td>\n",
       "      <td>8605</td>\n",
       "    </tr>\n",
       "  </tbody>\n",
       "</table>\n",
       "</div>"
      ],
      "text/plain": [
       "   mortality_flag  _col1\n",
       "0               1   1217\n",
       "1               0   8605"
      ]
     },
     "execution_count": 2,
     "metadata": {},
     "output_type": "execute_result"
    }
   ],
   "source": [
    "cohort_table = \"default.diabetic_patients_cohort\"     ## FULL COHORT\n",
    "subject_id_col = \"subject_id\"                         ## FULL COHORT\n",
    "prefix = \"\"                                           ## FULL COHORT\n",
    "\n",
    "#cohort_table = \"default.train_cohort2\"                ## BALANCED COHORT - TRAINING\n",
    "#prefix = \"balanced_train_\"                            ## BALANCED COHORT - TRAINING\n",
    "#subject_id_col = \"new_subject_id\"                      ## BALANCED COHORT - TRAINING\n",
    "\n",
    "#cohort_table = \"default.test_cohort\"                   ## BALANCED COHORT - TESTING\n",
    "#prefix = \"balanced_test_\"                              ## BALANCED COHORT - TESTING\n",
    "#subject_id_col = \"subject_id\"                      ## BALANCED COHORT - TESTING\n",
    "\n",
    "query='select * from default.diabetic_patients_cohort order by subject_id'\n",
    "cursor.execute(query)\n",
    "patients = as_pandas(cursor)\n",
    "\n",
    "query='select mortality_flag, count (distinct ' + subject_id_col + ') from ' + cohort_table +' group by mortality_flag'\n",
    "cursor.execute(query)\n",
    "mf = as_pandas(cursor)\n",
    "mf.head()"
   ]
  },
  {
   "cell_type": "markdown",
   "id": "eb437772",
   "metadata": {},
   "source": [
    "## Selected ICD9 codes\n",
    "\n",
    "The 17 APACHE III features and the 3 diabetic specific features (HbA1c, blood glucose and serum creatinine) map to many ICD9 codes.\n",
    "\n",
    "Also, using the attention weights we selected a subset of the features that got the most attention from the model (named *relevant* here)."
   ]
  },
  {
   "cell_type": "code",
   "execution_count": 3,
   "id": "7c6d3ea2",
   "metadata": {},
   "outputs": [],
   "source": [
    "chartevents_codes = [\n",
    "    ['Capillary refill rate', 3348, 224308, 223951, 8377, 115],\n",
    "    ['Diastolic blood pressure', 8364, 225310, 228151, 8555, 8368, 220051, 8502, 8503, 8504, 8505, 8506, 8507, 8508, 153, 8440, 224643, 227242, 8441, 220180, 8444, 8445, 8446, 8448, 220060],\n",
    "    ['Fraction inspired oxygen', 7146, 226767, 227035, 228192, 228193, 228232],\n",
    "    ['Glascow coma scale eye opening', 184, 220739],\n",
    "    ['Glascow coma scale motor response', 223901, 226757],\n",
    "    ['Glascow coma scale total', 198],\n",
    "    ['Glascow coma scale verbal response', 223900, 226758],\n",
    "    ['Glucose', 3744, 3745, 1310, 807, 1529, 811, 220621, 226537, 3447, 225664],\n",
    "    ['Heart Rate', 211, 220045],\n",
    "    ['Height', 226730],\n",
    "    ['Mean blood pressure', 225312, 52, 6702, 220052, 6927, 3312, 3314, 3316, 7618, 3318, 3320, 3322, 7620, 7622, 3324, 5702, 443, 456, 220181],\n",
    "    ['Oxygen saturation', 0],\n",
    "    ['Respiratory rate', 220210, 618, 224688, 224690, 224689, 619],\n",
    "    ['Systolic blood pressure', 51, 225309, 220050, 3313, 3315, 3317, 3319, 3321, 3323, 3325, 442, 224167, 227243, 455, 220179, 480, 482, 484 ],\n",
    "    ['Temperature', 224027, 645, 8537, 676, 677, 223762, 678, 679, 223761],\n",
    "    ['Weight', 581],\n",
    "    ['pH', 1126, 780, 223830, 220274, 220734, 4753, 4202, 1365, 7717, 3839]\n",
    "]\n",
    "\n",
    "labevents_codes = [\n",
    "    ['Oxygen Saturation', 50817],\n",
    "    ['Temperature', 50825],\n",
    "    ['pH', 50820],\n",
    "    ['% Hemoglobin A1c', 50852, 50854],\n",
    "    ['Blood Glucose', 50931, 51529],\n",
    "    ['Serum Creatinine', 50912]    \n",
    "]\n",
    "\n",
    "relevant_chartevents_codes = [\n",
    "    ['Glucose', 3744, 3745, 1310, 807, 1529, 811, 220621, 226537, 3447, 225664],\n",
    "    ['Heart Rate', 211, 220045],\n",
    "    ['Mean blood pressure', 225312, 52, 6702, 220052, 6927, 3312, 3314, 3316, 7618, 3318, 3320, 3322, 7620, 7622, 3324, 5702, 443, 456, 220181],\n",
    "    ['Oxygen Saturation', 0],\n",
    "    ['Systolic blood pressure', 51, 225309, 220050, 3313, 3315, 3317, 3319, 3321, 3323, 3325, 442, 224167, 227243, 455, 220179, 480, 482, 484 ],    \n",
    "    ['Temperature', 224027, 645, 8537, 676, 677, 223762, 678, 679, 223761],\n",
    "    ['Weight', 581]\n",
    "]\n",
    "\n",
    "relevant_labevents_codes = [\n",
    "    ['Oxygen Saturation', 50817],\n",
    "    ['Temperature', 50825],\n",
    "    ['Blood Glucose', 50931, 51529], \n",
    "]"
   ]
  },
  {
   "cell_type": "code",
   "execution_count": 8,
   "id": "037ec11d",
   "metadata": {},
   "outputs": [],
   "source": [
    "def create_codes_table():\n",
    "    cursor.execute(\"SHOW TABLES LIKE 'featurescodes'\")\n",
    "    if (cursor.fetchone() is None):\n",
    "        try:\n",
    "            query = \"create external table default.featurescodes  (code int, mimiciiitable string, feature string, icd9code int) stored as PARQUET location 's3://aws-athena-query-results-067114122515-us-east-1/featurescodes'\"\n",
    "            cursor.execute(query)\n",
    "            cnt = 0\n",
    "            for f in labevents_codes:\n",
    "                fn = f[0]\n",
    "                for c in f[1:]:\n",
    "                    query = \"insert into featurescodes values (\" + str(cnt) + \",'labevents','\" + fn +\"',\" + str(c) +\")\"\n",
    "                    cursor.execute(query)\n",
    "                    cnt += 1\n",
    "            for f in chartevents_codes:\n",
    "                fn = f[0]\n",
    "                for c in f[1:]:\n",
    "                    query = \"insert into featurescodes values (\" + str(cnt) + \",'chartevents','\" + fn +\"',\" + str(c) +\")\"\n",
    "                    cursor.execute(query)\n",
    "                    cnt += 1\n",
    "            print (\"featurescodes table created!\")\n",
    "        except Exception as e:\n",
    "            print (e)\n",
    "    else:\n",
    "        print (\"featurescodes table already exists.\")\n",
    "            "
   ]
  },
  {
   "source": [
    "### Featurescodes table creation"
   ],
   "cell_type": "markdown",
   "metadata": {}
  },
  {
   "cell_type": "code",
   "execution_count": 9,
   "id": "aaeb15e9",
   "metadata": {},
   "outputs": [
    {
     "name": "stdout",
     "output_type": "stream",
     "text": [
      "featurescodes table created!\n"
     ]
    }
   ],
   "source": [
    "#chartevents_codes = relevant_chartevents_codes\n",
    "#labevents_codes = relevant_labevents_codes\n",
    "create_codes_table()"
   ]
  },
  {
   "cell_type": "markdown",
   "id": "1d87317d",
   "metadata": {},
   "source": [
    "Item codes are unique among chart and lab events."
   ]
  },
  {
   "cell_type": "code",
   "execution_count": 10,
   "id": "78815b2c",
   "metadata": {},
   "outputs": [],
   "source": [
    "cursor.execute(\"select count(*) from featurescodes f, featurescodes g where g.icd9code=f.icd9code and g.feature <> f.feature\")\n",
    "assert 0 == cursor.fetchone()[0], \"Different features have same code in featurescodes table!!!\""
   ]
  },
  {
   "cell_type": "markdown",
   "id": "40008b35",
   "metadata": {},
   "source": [
    "## Create joint events table\n",
    "\n",
    "This table holds the chart events AND the lab events that correspond to the selected codes from the patients in the cohort.\n",
    "\n",
    "We only keep here the events that were taken ** *48 hours before discharge* **."
   ]
  },
  {
   "cell_type": "code",
   "execution_count": 11,
   "id": "b9f96d36",
   "metadata": {},
   "outputs": [],
   "source": [
    "def create_joint_events():\n",
    "    cursor.execute(\"\"\"CREATE TABLE events AS \n",
    "                    SELECT p.\"\"\" + subject_id_col + \"\"\" as subject_id, e.itemid,\n",
    "                             e.charttime,\n",
    "                             e.valuenum,\n",
    "                             p.admit_time,\n",
    "                             p.discharge_time,\n",
    "                             p.mortality_flag\n",
    "                    FROM \"\"\" + cohort_table + \"\"\" p\n",
    "                    LEFT OUTER JOIN                              \n",
    "                    (SELECT subject_id,\n",
    "                             itemid,\n",
    "                             charttime,\n",
    "                             valuenum\n",
    "                    FROM mimiciii.labevents l\n",
    "                    INNER JOIN default.featurescodes f\n",
    "                        ON f.icd9code = l.itemid                    \n",
    "                    WHERE f.mimiciiitable='labevents'\n",
    "                    UNION\n",
    "                    SELECT subject_id,\n",
    "                             itemid,\n",
    "                             charttime,\n",
    "                             valuenum\n",
    "                    FROM mimiciii.chartevents c\n",
    "                    INNER JOIN default.featurescodes f\n",
    "                        ON f.icd9code = c.itemid                      \n",
    "                    WHERE f.mimiciiitable='chartevents') e ON e.subject_id=p.subject_id\n",
    "                    AND e.charttime < p.discharge_time - INTERVAL '48' HOUR\n",
    "                    ORDER BY  p.\"\"\" + subject_id_col + \"\"\", e.itemid, e.charttime\n",
    "    \"\"\")\n",
    "    "
   ]
  },
  {
   "cell_type": "code",
   "execution_count": 12,
   "id": "75d242ae",
   "metadata": {},
   "outputs": [],
   "source": [
    "cursor.execute(\"SHOW TABLES LIKE 'events'\")\n",
    "if (cursor.fetchone() is None):\n",
    "    create_joint_events()"
   ]
  },
  {
   "source": [
    "### Create events_daystodischarge table\n",
    "\n",
    "This table adds the days to discharge date of the patients for each event.  \n",
    "\n",
    "This is needed for further grouping of the events into individual dates."
   ],
   "cell_type": "markdown",
   "metadata": {}
  },
  {
   "cell_type": "code",
   "execution_count": 13,
   "id": "4b75e5d6",
   "metadata": {},
   "outputs": [],
   "source": [
    "def create_events_daystodischarge():\n",
    "    cursor.execute(\"\"\"CREATE TABLE events_daystodischarge AS SELECT subject_id,\n",
    "                             -date_diff('day', discharge_time, charttime) daystodischarge, itemid, valuenum, mortality_flag\n",
    "                    FROM events e\n",
    "                    ORDER BY  subject_id, daystodischarge desc, itemid\"\"\")"
   ]
  },
  {
   "cell_type": "code",
   "execution_count": 14,
   "id": "0c361d11",
   "metadata": {},
   "outputs": [],
   "source": [
    "cursor.execute(\"SHOW TABLES LIKE 'events_daystodischarge'\")\n",
    "if (cursor.fetchone() is None):\n",
    "    create_events_daystodischarge()"
   ]
  },
  {
   "cell_type": "markdown",
   "id": "490412ea",
   "metadata": {},
   "source": [
    "### Create events_feature table\n",
    "\n",
    "This table holds the average of the measurements taken for the same feature on the same day for each patient.\n",
    "\n",
    "We took the average of the valuenum for each itemid on each day"
   ]
  },
  {
   "cell_type": "code",
   "execution_count": 15,
   "id": "82247610",
   "metadata": {},
   "outputs": [],
   "source": [
    "def create_events_features():\n",
    "    cursor.execute(\"\"\"CREATE TABLE events_features \n",
    "                    AS SELECT subject_id,\n",
    "                             daystodischarge,\n",
    "                             f.code,\n",
    "                             avg(valuenum) value,\n",
    "                             mortality_flag\n",
    "                    FROM events_daystodischarge e\n",
    "                    LEFT JOIN featurescodes f ON e.itemid=f.icd9code\n",
    "                    GROUP BY  subject_id, daystodischarge, f.code, mortality_flag\n",
    "                    ORDER BY  subject_id, daystodischarge desc, code\"\"\")\n"
   ]
  },
  {
   "cell_type": "code",
   "execution_count": 16,
   "id": "0c90d490",
   "metadata": {},
   "outputs": [],
   "source": [
    "cursor.execute(\"SHOW TABLES LIKE 'events_features'\")\n",
    "if (cursor.fetchone() is None):\n",
    "    create_events_features()"
   ]
  },
  {
   "cell_type": "markdown",
   "id": "391eca85",
   "metadata": {},
   "source": [
    "## Sanity check"
   ]
  },
  {
   "cell_type": "code",
   "execution_count": 17,
   "id": "d6649ecf",
   "metadata": {},
   "outputs": [
    {
     "data": {
      "text/html": [
       "<div>\n",
       "<style scoped>\n",
       "    .dataframe tbody tr th:only-of-type {\n",
       "        vertical-align: middle;\n",
       "    }\n",
       "\n",
       "    .dataframe tbody tr th {\n",
       "        vertical-align: top;\n",
       "    }\n",
       "\n",
       "    .dataframe thead th {\n",
       "        text-align: right;\n",
       "    }\n",
       "</style>\n",
       "<table border=\"1\" class=\"dataframe\">\n",
       "  <thead>\n",
       "    <tr style=\"text-align: right;\">\n",
       "      <th></th>\n",
       "      <th>feature</th>\n",
       "      <th>avg</th>\n",
       "      <th>dev</th>\n",
       "      <th>min</th>\n",
       "      <th>max</th>\n",
       "      <th>cnt</th>\n",
       "    </tr>\n",
       "  </thead>\n",
       "  <tbody>\n",
       "    <tr>\n",
       "      <th>0</th>\n",
       "      <td>Blood Glucose</td>\n",
       "      <td>146.786787</td>\n",
       "      <td>66.943482</td>\n",
       "      <td>9.000000</td>\n",
       "      <td>981.000000</td>\n",
       "      <td>163775</td>\n",
       "    </tr>\n",
       "    <tr>\n",
       "      <th>1</th>\n",
       "      <td>Glucose</td>\n",
       "      <td>152.473772</td>\n",
       "      <td>55.603106</td>\n",
       "      <td>3.000000</td>\n",
       "      <td>952.500000</td>\n",
       "      <td>176479</td>\n",
       "    </tr>\n",
       "    <tr>\n",
       "      <th>2</th>\n",
       "      <td>Temperature</td>\n",
       "      <td>69.520109</td>\n",
       "      <td>30.686679</td>\n",
       "      <td>0.800000</td>\n",
       "      <td>300.020000</td>\n",
       "      <td>140187</td>\n",
       "    </tr>\n",
       "    <tr>\n",
       "      <th>3</th>\n",
       "      <td>Weight</td>\n",
       "      <td>90.057120</td>\n",
       "      <td>26.362641</td>\n",
       "      <td>0.300000</td>\n",
       "      <td>300.000000</td>\n",
       "      <td>25210</td>\n",
       "    </tr>\n",
       "    <tr>\n",
       "      <th>4</th>\n",
       "      <td>Systolic blood pressure</td>\n",
       "      <td>122.299468</td>\n",
       "      <td>20.378424</td>\n",
       "      <td>0.300000</td>\n",
       "      <td>964.375000</td>\n",
       "      <td>95847</td>\n",
       "    </tr>\n",
       "    <tr>\n",
       "      <th>5</th>\n",
       "      <td>Mean blood pressure</td>\n",
       "      <td>78.258917</td>\n",
       "      <td>14.859039</td>\n",
       "      <td>0.333333</td>\n",
       "      <td>891.857143</td>\n",
       "      <td>95618</td>\n",
       "    </tr>\n",
       "    <tr>\n",
       "      <th>6</th>\n",
       "      <td>Heart Rate</td>\n",
       "      <td>84.969130</td>\n",
       "      <td>14.838700</td>\n",
       "      <td>31.800000</td>\n",
       "      <td>230.566667</td>\n",
       "      <td>75725</td>\n",
       "    </tr>\n",
       "    <tr>\n",
       "      <th>7</th>\n",
       "      <td>Oxygen Saturation</td>\n",
       "      <td>90.092240</td>\n",
       "      <td>11.695140</td>\n",
       "      <td>1.400000</td>\n",
       "      <td>542.500000</td>\n",
       "      <td>20731</td>\n",
       "    </tr>\n",
       "  </tbody>\n",
       "</table>\n",
       "</div>"
      ],
      "text/plain": [
       "                   feature         avg        dev        min         max  \\\n",
       "0            Blood Glucose  146.786787  66.943482   9.000000  981.000000   \n",
       "1                  Glucose  152.473772  55.603106   3.000000  952.500000   \n",
       "2              Temperature   69.520109  30.686679   0.800000  300.020000   \n",
       "3                   Weight   90.057120  26.362641   0.300000  300.000000   \n",
       "4  Systolic blood pressure  122.299468  20.378424   0.300000  964.375000   \n",
       "5      Mean blood pressure   78.258917  14.859039   0.333333  891.857143   \n",
       "6               Heart Rate   84.969130  14.838700  31.800000  230.566667   \n",
       "7        Oxygen Saturation   90.092240  11.695140   1.400000  542.500000   \n",
       "\n",
       "      cnt  \n",
       "0  163775  \n",
       "1  176479  \n",
       "2  140187  \n",
       "3   25210  \n",
       "4   95847  \n",
       "5   95618  \n",
       "6   75725  \n",
       "7   20731  "
      ]
     },
     "execution_count": 17,
     "metadata": {},
     "output_type": "execute_result"
    }
   ],
   "source": [
    "cursor.execute(\"\"\"SELECT feature,\n",
    "                         avg(value) avg,\n",
    "                         stddev(value) dev,\n",
    "                         min(value) min,\n",
    "                         max(value) max,\n",
    "                         count(value) cnt\n",
    "                FROM events_features AS e\n",
    "                INNER JOIN featurescodes AS f\n",
    "                    ON e.code=f.code\n",
    "                WHERE value>0 and value<1000\n",
    "                GROUP BY  feature\n",
    "                ORDER BY  dev DESC \"\"\")\n",
    "df = as_pandas(cursor)\n",
    "df"
   ]
  },
  {
   "cell_type": "code",
   "execution_count": 18,
   "id": "7dc7c8dd",
   "metadata": {},
   "outputs": [
    {
     "data": {
      "text/html": [
       "<div>\n",
       "<style scoped>\n",
       "    .dataframe tbody tr th:only-of-type {\n",
       "        vertical-align: middle;\n",
       "    }\n",
       "\n",
       "    .dataframe tbody tr th {\n",
       "        vertical-align: top;\n",
       "    }\n",
       "\n",
       "    .dataframe thead th {\n",
       "        text-align: right;\n",
       "    }\n",
       "</style>\n",
       "<table border=\"1\" class=\"dataframe\">\n",
       "  <thead>\n",
       "    <tr style=\"text-align: right;\">\n",
       "      <th></th>\n",
       "      <th>minDays</th>\n",
       "      <th>maxDays</th>\n",
       "      <th>avgDays</th>\n",
       "      <th>stddevDays</th>\n",
       "    </tr>\n",
       "  </thead>\n",
       "  <tbody>\n",
       "    <tr>\n",
       "      <th>0</th>\n",
       "      <td>2</td>\n",
       "      <td>4039</td>\n",
       "      <td>255.256692</td>\n",
       "      <td>557.691189</td>\n",
       "    </tr>\n",
       "  </tbody>\n",
       "</table>\n",
       "</div>"
      ],
      "text/plain": [
       "   minDays  maxDays     avgDays  stddevDays\n",
       "0        2     4039  255.256692  557.691189"
      ]
     },
     "execution_count": 18,
     "metadata": {},
     "output_type": "execute_result"
    }
   ],
   "source": [
    "cursor.execute(\"\"\"\n",
    "                SELECT min(daystodischarge) minDays, max(daystodischarge) maxDays, avg(daystodischarge) avgDays, stddev(daystodischarge) stddevDays FROM events_features\"\"\")\n",
    "df = as_pandas(cursor)\n",
    "df"
   ]
  },
  {
   "cell_type": "code",
   "execution_count": 19,
   "id": "bc1b3424",
   "metadata": {},
   "outputs": [],
   "source": [
    "cursor.execute(\"\"\"\n",
    "                SELECT subject_id, count(distinct daystodischarge) cntDays FROM events_features GROUP BY subject_id\"\"\")\n",
    "df = as_pandas(cursor)"
   ]
  },
  {
   "cell_type": "code",
   "execution_count": 21,
   "id": "682dd7a5",
   "metadata": {},
   "outputs": [
    {
     "data": {
      "text/html": [
       "<div>\n",
       "<style scoped>\n",
       "    .dataframe tbody tr th:only-of-type {\n",
       "        vertical-align: middle;\n",
       "    }\n",
       "\n",
       "    .dataframe tbody tr th {\n",
       "        vertical-align: top;\n",
       "    }\n",
       "\n",
       "    .dataframe thead th {\n",
       "        text-align: right;\n",
       "    }\n",
       "</style>\n",
       "<table border=\"1\" class=\"dataframe\">\n",
       "  <thead>\n",
       "    <tr style=\"text-align: right;\">\n",
       "      <th></th>\n",
       "      <th>mortality_flag</th>\n",
       "      <th>cnt</th>\n",
       "    </tr>\n",
       "  </thead>\n",
       "  <tbody>\n",
       "    <tr>\n",
       "      <th>0</th>\n",
       "      <td>0</td>\n",
       "      <td>8605</td>\n",
       "    </tr>\n",
       "    <tr>\n",
       "      <th>1</th>\n",
       "      <td>1</td>\n",
       "      <td>1217</td>\n",
       "    </tr>\n",
       "  </tbody>\n",
       "</table>\n",
       "</div>"
      ],
      "text/plain": [
       "   mortality_flag   cnt\n",
       "0               0  8605\n",
       "1               1  1217"
      ]
     },
     "execution_count": 21,
     "metadata": {},
     "output_type": "execute_result"
    }
   ],
   "source": [
    "cursor.execute(\"\"\"\n",
    "                SELECT mortality_flag, count(distinct \"\"\" +subject_id_col + \"\"\") cnt FROM \"\"\" + cohort_table + \"\"\" group by mortality_flag\"\"\")\n",
    "df = as_pandas(cursor)\n",
    "df"
   ]
  },
  {
   "cell_type": "code",
   "execution_count": 22,
   "id": "693c8ca3",
   "metadata": {},
   "outputs": [
    {
     "data": {
      "text/html": [
       "<div>\n",
       "<style scoped>\n",
       "    .dataframe tbody tr th:only-of-type {\n",
       "        vertical-align: middle;\n",
       "    }\n",
       "\n",
       "    .dataframe tbody tr th {\n",
       "        vertical-align: top;\n",
       "    }\n",
       "\n",
       "    .dataframe thead th {\n",
       "        text-align: right;\n",
       "    }\n",
       "</style>\n",
       "<table border=\"1\" class=\"dataframe\">\n",
       "  <thead>\n",
       "    <tr style=\"text-align: right;\">\n",
       "      <th></th>\n",
       "      <th>mortality_flag</th>\n",
       "      <th>cnt</th>\n",
       "    </tr>\n",
       "  </thead>\n",
       "  <tbody>\n",
       "    <tr>\n",
       "      <th>0</th>\n",
       "      <td>1</td>\n",
       "      <td>175660</td>\n",
       "    </tr>\n",
       "    <tr>\n",
       "      <th>1</th>\n",
       "      <td>0</td>\n",
       "      <td>661539</td>\n",
       "    </tr>\n",
       "  </tbody>\n",
       "</table>\n",
       "</div>"
      ],
      "text/plain": [
       "   mortality_flag     cnt\n",
       "0               1  175660\n",
       "1               0  661539"
      ]
     },
     "execution_count": 22,
     "metadata": {},
     "output_type": "execute_result"
    }
   ],
   "source": [
    "cursor.execute(\"\"\"\n",
    "                SELECT mortality_flag, count(*) cnt FROM events_features group by mortality_flag\"\"\")\n",
    "df = as_pandas(cursor)\n",
    "df"
   ]
  },
  {
   "cell_type": "markdown",
   "id": "5701a9b4",
   "metadata": {},
   "source": [
    "## Construction of Events dataframe\n",
    "\n",
    "The data from the events_feature table are loaded into two dataframes.\n",
    "\n",
    "The `events_item` dataframe contains for each patient and for each value of days-to-discharge a list of the features codes that were taken on that day.\n",
    "\n",
    "The `events_values` dataframe contains form each patient and for each value of days-to-discharge a list of the values corresponding to the features in the `events_item`."
   ]
  },
  {
   "cell_type": "code",
   "execution_count": 24,
   "id": "da3e3ea4",
   "metadata": {},
   "outputs": [
    {
     "name": "stdout",
     "output_type": "stream",
     "text": [
      "Query finished\n"
     ]
    }
   ],
   "source": [
    "cursor.execute(\"select * from events_features order by subject_id, daystodischarge desc, code\")\n",
    "print (\"Query finished\")\n",
    "events = as_pandas(cursor)"
   ]
  },
  {
   "cell_type": "code",
   "execution_count": 25,
   "id": "55aeccad",
   "metadata": {},
   "outputs": [],
   "source": [
    "num_pat = len(events['subject_id'].unique())"
   ]
  },
  {
   "source": [
    "Non numbers are replaced with 0."
   ],
   "cell_type": "markdown",
   "metadata": {}
  },
  {
   "cell_type": "code",
   "execution_count": 26,
   "id": "019f4c6c",
   "metadata": {},
   "outputs": [],
   "source": [
    "events['code'] = events['code'].fillna(0).astype(int)\n",
    "events['daystodischarge'] = events['daystodischarge'].fillna(0).astype(int)\n",
    "events['value'] = events['value'].fillna(0)"
   ]
  },
  {
   "cell_type": "code",
   "execution_count": 27,
   "id": "15fa4fa7",
   "metadata": {},
   "outputs": [],
   "source": [
    "events_item = events.groupby([events['subject_id'], events['daystodischarge']])['code'].apply(list).reset_index(name='codes')\n",
    "events_values = events.groupby([events['subject_id'], events['daystodischarge']])['value'].apply(list).reset_index(name='values')\n",
    "assert len(events_item['subject_id'].unique()) == num_pat, 'Wrong number of patients in events_item'\n",
    "assert len(events_values['subject_id'].unique()) == num_pat, 'Wrong number of patients in events_values'"
   ]
  },
  {
   "source": [
    "Dataframes are *pickled*."
   ],
   "cell_type": "markdown",
   "metadata": {}
  },
  {
   "cell_type": "code",
   "execution_count": 28,
   "id": "2f8ef7bb",
   "metadata": {},
   "outputs": [],
   "source": [
    "pickle.dump( events_item, open(prefix + \"events_item.p\", \"wb\" ) )\n",
    "pickle.dump( events_values, open(prefix + \"events_value.p\", \"wb\"))\n",
    "pickle.dump( patients, open(prefix + \"patients.p\", \"wb\"))"
   ]
  },
  {
   "source": [
    "Just some assertions to make sure we saved what we expected."
   ],
   "cell_type": "markdown",
   "metadata": {}
  },
  {
   "cell_type": "code",
   "execution_count": null,
   "id": "493c7c11",
   "metadata": {},
   "outputs": [],
   "source": [
    "ei = pickle.load( open( prefix+\"events_item.p\", \"rb\" ) )\n",
    "\n",
    "assert len(ei[ei['subject_id']==13]['codes']) == len(events_item[events_item['subject_id']==13]['codes']), \"Wrong serialization!!\"\n",
    "assert len(ei)==len(events_item, ), \"Wrong serialization!!\"\n",
    "\n",
    "ei = pickle.load(open(prefix+\"events_value.p\", \"rb\") )\n",
    "#assert ei[ei['subject_id']==13]['values'][0] == events_values[events_values['subject_id']==13]['values'][0], \"Wrong serialization!!\"\n",
    "assert len(ei)==len(events_item), \"Wrong serialization!!\"\n",
    "\n",
    "ei = pickle.load(open(prefix+'patients.p', 'rb'))\n",
    "assert int(ei[ei['subject_id']==2511]['mortality_flag']) == int(patients[patients['subject_id']==2511]['mortality_flag'])"
   ]
  },
  {
   "source": [
    "## Auxiliary data"
   ],
   "cell_type": "markdown",
   "metadata": {}
  },
  {
   "cell_type": "code",
   "execution_count": 23,
   "id": "8768dde7",
   "metadata": {},
   "outputs": [
    {
     "name": "stdout",
     "output_type": "stream",
     "text": [
      "Features list\n"
     ]
    }
   ],
   "source": [
    "cursor.execute(\"select f.code, mimiciiitable, feature, avg(value) mean, stddev(value) stddev, count(value) cnt from featurescodes f left outer join events_features e on e.code=f.code  group by f.code, mimiciiitable, feature order by f.code\")\n",
    "print (\"Features list\")\n",
    "features = as_pandas(cursor)\n",
    "features.to_csv('featurescodes.csv')"
   ]
  },
  {
   "cell_type": "code",
   "execution_count": 29,
   "id": "69e032e8",
   "metadata": {},
   "outputs": [],
   "source": [
    "cursor.execute('select max(code) from featurescodes')\n",
    "max_code = int(cursor.fetchone()[0])"
   ]
  },
  {
   "cell_type": "code",
   "execution_count": 30,
   "id": "2537a65b",
   "metadata": {},
   "outputs": [
    {
     "data": {
      "text/plain": [
       "63"
      ]
     },
     "execution_count": 30,
     "metadata": {},
     "output_type": "execute_result"
    }
   ],
   "source": [
    "pickle.dump(max_code, open(\"events_maxcode.p\", \"wb\"))\n",
    "max_code"
   ]
  },
  {
   "cell_type": "markdown",
   "id": "6ee4f1e2",
   "metadata": {},
   "source": [
    "## Patients without data \n",
    "\n",
    "Probably because they were discharge in less than 48 hours."
   ]
  },
  {
   "cell_type": "code",
   "execution_count": 32,
   "id": "dc1de1c6",
   "metadata": {},
   "outputs": [
    {
     "data": {
      "text/html": [
       "<div>\n",
       "<style scoped>\n",
       "    .dataframe tbody tr th:only-of-type {\n",
       "        vertical-align: middle;\n",
       "    }\n",
       "\n",
       "    .dataframe tbody tr th {\n",
       "        vertical-align: top;\n",
       "    }\n",
       "\n",
       "    .dataframe thead th {\n",
       "        text-align: right;\n",
       "    }\n",
       "</style>\n",
       "<table border=\"1\" class=\"dataframe\">\n",
       "  <thead>\n",
       "    <tr style=\"text-align: right;\">\n",
       "      <th></th>\n",
       "      <th>daystodischarge</th>\n",
       "    </tr>\n",
       "    <tr>\n",
       "      <th>subject_id</th>\n",
       "      <th></th>\n",
       "    </tr>\n",
       "  </thead>\n",
       "  <tbody>\n",
       "    <tr>\n",
       "      <th>5532</th>\n",
       "      <td>0</td>\n",
       "    </tr>\n",
       "    <tr>\n",
       "      <th>5844</th>\n",
       "      <td>0</td>\n",
       "    </tr>\n",
       "    <tr>\n",
       "      <th>7132</th>\n",
       "      <td>0</td>\n",
       "    </tr>\n",
       "    <tr>\n",
       "      <th>8267</th>\n",
       "      <td>0</td>\n",
       "    </tr>\n",
       "    <tr>\n",
       "      <th>10879</th>\n",
       "      <td>0</td>\n",
       "    </tr>\n",
       "    <tr>\n",
       "      <th>11627</th>\n",
       "      <td>0</td>\n",
       "    </tr>\n",
       "    <tr>\n",
       "      <th>15583</th>\n",
       "      <td>0</td>\n",
       "    </tr>\n",
       "    <tr>\n",
       "      <th>22231</th>\n",
       "      <td>0</td>\n",
       "    </tr>\n",
       "    <tr>\n",
       "      <th>22840</th>\n",
       "      <td>0</td>\n",
       "    </tr>\n",
       "    <tr>\n",
       "      <th>25884</th>\n",
       "      <td>0</td>\n",
       "    </tr>\n",
       "    <tr>\n",
       "      <th>26431</th>\n",
       "      <td>0</td>\n",
       "    </tr>\n",
       "    <tr>\n",
       "      <th>26509</th>\n",
       "      <td>0</td>\n",
       "    </tr>\n",
       "    <tr>\n",
       "      <th>32792</th>\n",
       "      <td>0</td>\n",
       "    </tr>\n",
       "    <tr>\n",
       "      <th>42502</th>\n",
       "      <td>0</td>\n",
       "    </tr>\n",
       "    <tr>\n",
       "      <th>42780</th>\n",
       "      <td>0</td>\n",
       "    </tr>\n",
       "    <tr>\n",
       "      <th>47071</th>\n",
       "      <td>0</td>\n",
       "    </tr>\n",
       "    <tr>\n",
       "      <th>68607</th>\n",
       "      <td>0</td>\n",
       "    </tr>\n",
       "    <tr>\n",
       "      <th>74350</th>\n",
       "      <td>0</td>\n",
       "    </tr>\n",
       "    <tr>\n",
       "      <th>75393</th>\n",
       "      <td>0</td>\n",
       "    </tr>\n",
       "    <tr>\n",
       "      <th>80181</th>\n",
       "      <td>0</td>\n",
       "    </tr>\n",
       "    <tr>\n",
       "      <th>81550</th>\n",
       "      <td>0</td>\n",
       "    </tr>\n",
       "    <tr>\n",
       "      <th>82773</th>\n",
       "      <td>0</td>\n",
       "    </tr>\n",
       "    <tr>\n",
       "      <th>84410</th>\n",
       "      <td>0</td>\n",
       "    </tr>\n",
       "  </tbody>\n",
       "</table>\n",
       "</div>"
      ],
      "text/plain": [
       "            daystodischarge\n",
       "subject_id                 \n",
       "5532                      0\n",
       "5844                      0\n",
       "7132                      0\n",
       "8267                      0\n",
       "10879                     0\n",
       "11627                     0\n",
       "15583                     0\n",
       "22231                     0\n",
       "22840                     0\n",
       "25884                     0\n",
       "26431                     0\n",
       "26509                     0\n",
       "32792                     0\n",
       "42502                     0\n",
       "42780                     0\n",
       "47071                     0\n",
       "68607                     0\n",
       "74350                     0\n",
       "75393                     0\n",
       "80181                     0\n",
       "81550                     0\n",
       "82773                     0\n",
       "84410                     0"
      ]
     },
     "execution_count": 32,
     "metadata": {},
     "output_type": "execute_result"
    }
   ],
   "source": [
    "dtod[dtod['daystodischarge']==0].sort_values(['subject_id'])"
   ]
  },
  {
   "cell_type": "code",
   "execution_count": 33,
   "id": "459a6779",
   "metadata": {},
   "outputs": [
    {
     "name": "stdout",
     "output_type": "stream",
     "text": [
      "## Number of patients without data:  23\n"
     ]
    }
   ],
   "source": [
    "print (\"## Number of patients without data: \", len(dtod[dtod['daystodischarge']==0]))"
   ]
  }
 ],
 "metadata": {
  "kernelspec": {
   "name": "python368jvsc74a57bd0372d86228f3adce91ee8f73488429c59d9cef194793ee1ea2efae707e6a5484f",
   "display_name": "Python 3.6.8 64-bit"
  },
  "language_info": {
   "codemirror_mode": {
    "name": "ipython",
    "version": 3
   },
   "file_extension": ".py",
   "mimetype": "text/x-python",
   "name": "python",
   "nbconvert_exporter": "python",
   "pygments_lexer": "ipython3",
   "version": "3.6.8"
  }
 },
 "nbformat": 4,
 "nbformat_minor": 5
}