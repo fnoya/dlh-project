{
 "cells": [
  {
   "cell_type": "code",
   "execution_count": null,
   "metadata": {},
   "outputs": [],
   "source": [
    "#!pip install PyAthena\n",
    "#!pip install --upgrade gensim"
   ]
  },
  {
   "cell_type": "code",
   "execution_count": 1,
   "metadata": {},
   "outputs": [
    {
     "name": "stderr",
     "output_type": "stream",
     "text": [
      "[nltk_data] Downloading package punkt to\n",
      "[nltk_data]     /Users/olabisibalogun/nltk_data...\n",
      "[nltk_data]   Package punkt is already up-to-date!\n"
     ]
    },
    {
     "data": {
      "text/plain": [
       "True"
      ]
     },
     "execution_count": 1,
     "metadata": {},
     "output_type": "execute_result"
    }
   ],
   "source": [
    "from __future__ import print_function\n",
    "import numpy as np\n",
    "import string\n",
    "import nltk\n",
    "from nltk import word_tokenize\n",
    "import datetime\n",
    "import pandas as pd\n",
    "import matplotlib.pyplot as plt\n",
    "import os\n",
    "import boto3\n",
    "#from botocore.client import ClientError\n",
    "# below is used to print out pretty pandas dataframes\n",
    "from IPython.display import display, HTML\n",
    "\n",
    "#from pyathena import connect\n",
    "from pyathena.pandas.util import as_pandas\n",
    "import torch\n",
    "import torch.nn as nn\n",
    "import time\n",
    "import re\n",
    "nltk.download('punkt')"
   ]
  },
  {
   "cell_type": "code",
   "execution_count": null,
   "metadata": {},
   "outputs": [],
   "source": [
    "s3 = boto3.resource('s3')\n",
    "client = boto3.client(\"sts\")\n",
    "account_id = client.get_caller_identity()[\"Account\"]\n",
    "my_session = boto3.session.Session()\n",
    "region = my_session.region_name\n",
    "athena_query_results_bucket = 'aws-athena-query-results-'+account_id+'-'+region\n",
    "\n",
    "try:\n",
    "    s3.meta.client.head_bucket(Bucket=athena_query_results_bucket)\n",
    "except ClientError:\n",
    "    bucket = s3.create_bucket(Bucket=athena_query_results_bucket)\n",
    "    print('Creating bucket '+athena_query_results_bucket)\n",
    "cursor = connect(s3_staging_dir='s3://'+athena_query_results_bucket+'/athena/temp').cursor()"
   ]
  },
  {
   "cell_type": "code",
   "execution_count": null,
   "metadata": {},
   "outputs": [],
   "source": [
    "query = 'select * from default.diabetic_patients_notes_agg'\n",
    "cursor.execute(query)\n",
    "cohort_patients_df = as_pandas(cursor)"
   ]
  },
  {
   "cell_type": "code",
   "execution_count": null,
   "metadata": {},
   "outputs": [],
   "source": [
    "def preprocess_dataset(df):    \n",
    "    '''\n",
    "    INPUT: notes dataframe\n",
    "    OUTPUT: (list) preprocessed clinical notes\n",
    "    TASK: Preprocess the text data. And return a list of clinical notes. '''\n",
    "    clinical_notes = []\n",
    "    \n",
    "    df.notes_agg = df.notes_agg.fillna(' ')  # remove NA\n",
    "    df.notes_agg = df.notes_agg.str.replace('\\n',' ')  # remove newline\n",
    "    df.notes_agg = df.notes_agg.str.replace('\\r',' ')\n",
    "    \n",
    "    \n",
    "    #remove punctuation \n",
    "    df.notes_agg = [re.sub(r'[^\\w\\s]','',x) for x in df.notes_agg.tolist()]\n",
    "    df.notes_agg = [re.sub('['+string.punctuation+']','',x) for x in df.notes_agg.tolist()]\n",
    "    \n",
    "    #remove numbers\n",
    "    df.notes_agg = [re.sub(\"\\d+\",'',x) for x in df.notes_agg.tolist()]\n",
    "    \n",
    "    df.notes_agg = df.notes_agg.str.lower()  # convert to lower case\n",
    "    \n",
    "    # tokenize\n",
    "    for note in df.notes_agg.values:\n",
    "        note_tokenized = word_tokenize(note)\n",
    "        clinical_notes.append(note_tokenized)\n",
    "\n",
    "    return clinical_notes"
   ]
  },
  {
   "cell_type": "code",
   "execution_count": null,
   "metadata": {},
   "outputs": [],
   "source": [
    "from gensim.models import Word2Vec\n",
    "#preprocess and train the first patient notes with subject_id 13\n",
    "clinical_notes = preprocess_dataset(cohort_patients_df.loc[cohort_patients_df.subject_id==13])\n",
    "notes_model = Word2Vec(clinical_notes, vector_size=200, min_count=10, workers=4)\n",
    "\n",
    "#Update word vector model\n",
    "for idx in range(1,len(ids)):\n",
    "    df = cohort_patients_df.loc[cohort_patients_df.subject_id==ids[idx]]\n",
    "    addition_notes = preprocess_dataset(df)\n",
    "    notes_model.build_vocab(addition_notes, update=True)\n",
    "    notes_model.train(addition_notes, total_examples=notes_model.corpus_count, epochs=notes_model.epochs)\n",
    "    "
   ]
  },
  {
   "cell_type": "code",
   "execution_count": null,
   "metadata": {},
   "outputs": [],
   "source": [
    "#retrieve the keyed vectors\n",
    "note_vectors = notes_model.wv\n",
    "\n",
    "#save the keyed vectors\n",
    "note_vectors.save('note_vectors.kv')"
   ]
  },
  {
   "cell_type": "code",
   "execution_count": null,
   "metadata": {},
   "outputs": [],
   "source": [
    "from gensim.models import KeyedVectors\n",
    "#load the word vector embedding\n",
    "word_model = KeyedVectors.load('note_vectors.kv')"
   ]
  },
  {
   "cell_type": "markdown",
   "metadata": {},
   "source": [
    "### Plot the Word Embedding Using TSNE"
   ]
  },
  {
   "cell_type": "code",
   "execution_count": null,
   "metadata": {},
   "outputs": [],
   "source": [
    "#embeddings\n",
    "X = word_model[word_model.key_to_index]\n",
    "\n",
    "#words\n",
    "W = list(word_model.key_to_index)\n",
    "\n",
    "#select subset of words\n",
    "X_subset = X[:1000]\n",
    "W_subset = W[:1000]"
   ]
  },
  {
   "cell_type": "code",
   "execution_count": null,
   "metadata": {},
   "outputs": [],
   "source": [
    "#plot word embeddings\n",
    "from sklearn.manifold import TSNE\n",
    "import random\n",
    "\n",
    "def plot(X,Y,W):\n",
    "    fig, ax = plt.subplots(figsize=(10,10))\n",
    "    ax.plot(Y[:,0],Y[:,1],'o')\n",
    "    ax.set_yticklabels([])\n",
    "    ax.set_xticklabels([])\n",
    "    \n",
    "    for i, word in enumerate(W):\n",
    "        if random.uniform(0,1) > 0.9:\n",
    "            plt.annotate(word, xy=(Y[i,0], Y[i,1]))\n",
    "    plt.title('TSNE plot for sample of 1000 words from the word embeddings')\n",
    "    plt.savefig('tsne.png')\n",
    "    plt.show()\n",
    "    \n",
    "Y_subset_tsne = TSNE(random_state=230729).fit_transform(X_subset)\n",
    "\n",
    "plot(X_subset, Y_subset_tsne, W_subset)"
   ]
  }
 ],
 "metadata": {
  "kernelspec": {
   "display_name": "Python 3",
   "language": "python",
   "name": "python3"
  },
  "language_info": {
   "codemirror_mode": {
    "name": "ipython",
    "version": 3
   },
   "file_extension": ".py",
   "mimetype": "text/x-python",
   "name": "python",
   "nbconvert_exporter": "python",
   "pygments_lexer": "ipython3",
   "version": "3.7.9"
  }
 },
 "nbformat": 4,
 "nbformat_minor": 4
}
