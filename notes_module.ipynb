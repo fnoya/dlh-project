{
 "metadata": {
  "language_info": {
   "codemirror_mode": {
    "name": "ipython",
    "version": 3
   },
   "file_extension": ".py",
   "mimetype": "text/x-python",
   "name": "python",
   "nbconvert_exporter": "python",
   "pygments_lexer": "ipython3",
   "version": "3.8.5-final"
  },
  "orig_nbformat": 2,
  "kernelspec": {
   "name": "python385jvsc74a57bd0b3ba2566441a7c06988d0923437866b63cedc61552a5af99d1f4fb67d367b25f",
   "display_name": "Python 3.8.5 64-bit (conda)"
  }
 },
 "nbformat": 4,
 "nbformat_minor": 2,
 "cells": [
  {
   "source": [
    "# Notes Module\n",
    "We are going to implement a attention mechanism similar to RETAIN.\n",
    "\n",
    "alpha will be a scalar attention which will measure the importance of the Notes of particular day in the final output.\n",
    "beta will be a vector of attention weights which will measure the importance of each notes embeding value (feature) in the final output."
   ],
   "cell_type": "markdown",
   "metadata": {}
  },
  {
   "source": [
    "# Alpha Attention\n"
   ],
   "cell_type": "markdown",
   "metadata": {}
  },
  {
   "cell_type": "code",
   "execution_count": null,
   "metadata": {},
   "outputs": [],
   "source": [
    "class NotesAlphaAttention(torch.nn.Module):\n",
    "\n",
    "    def __init__(self, hidden_dim):\n",
    "        super().__init__()\n",
    "        \"\"\"\n",
    "        Define the linear layer `self.a_att` for alpha-attention using `nn.Linear()`;\n",
    "        Arguments:\n",
    "            hidden_dim: the hidden dimension\n",
    "        \"\"\"\n",
    "        \n",
    "        self.a_att = nn.Linear(hidden_dim, 1)\n",
    "\n",
    "    def forward(self, g):\n",
    "        \"\"\"\"\n",
    "        Arguments:\n",
    "            g: the output tensor from RNN-alpha of shape (batch_size, seq_length, hidden_dim) \n",
    "        \n",
    "        Outputs:\n",
    "            alpha: the corresponding attention weights of shape (batch_size, seq_length, 1)\n",
    "        \"\"\"\n",
    "        \n",
    "        weights = self.a_att(g)\n",
    "        alpha = torch.softmax(weights,1)\n",
    "        return alpha"
   ]
  },
  {
   "source": [
    "# Beta Attention"
   ],
   "cell_type": "markdown",
   "metadata": {}
  },
  {
   "cell_type": "code",
   "execution_count": null,
   "metadata": {},
   "outputs": [],
   "source": [
    "class NotesBetaAttention(torch.nn.Module):\n",
    "\n",
    "    def __init__(self, hidden_dim):\n",
    "        super().__init__()\n",
    "        \"\"\"\n",
    "        Define the linear layer `self.b_att` for beta-attention using `nn.Linear()`;\n",
    "        \n",
    "        Arguments:\n",
    "            hidden_dim: the hidden dimension\n",
    "        \"\"\"\n",
    "        \n",
    "        self.b_att = nn.Linear(hidden_dim, hidden_dim)\n",
    "\n",
    "\n",
    "    def forward(self, h):\n",
    "        \"\"\"\n",
    "        \n",
    "        Arguments:\n",
    "            h: the output tensor from RNN-beta of shape (batch_size, seq_length, hidden_dim) \n",
    "        \n",
    "        Outputs:\n",
    "            beta: the corresponding attention weights of shape (batch_size, seq_length, hidden_dim)\n",
    "            \n",
    "        \"\"\"\n",
    "        \n",
    "        weights = self.b_att(h)\n",
    "        beta = torch.tanh(weights)\n",
    "        return beta"
   ]
  },
  {
   "source": [
    "# NotesRnn"
   ],
   "cell_type": "markdown",
   "metadata": {}
  },
  {
   "cell_type": "code",
   "execution_count": null,
   "metadata": {},
   "outputs": [],
   "source": [
    "class NotesRNN(nn.Module):\n",
    "    \n",
    "    def attention_sum(self, alpha, beta, x, masks):\n",
    "        \"\"\"\n",
    "        Arguments:\n",
    "            alpha: the alpha attention weights of shape (batch_size, seq_length, 1)\n",
    "            beta: the beta attention weights of shape (batch_size, seq_length, hidden_dim)\n",
    "            rev_v: the visit embeddings in reversed time of shape (batch_size, # visits, embedding_dim)\n",
    "            rev_masks: the padding masks in reversed time of shape (# visits, batch_size, # diagnosis codes)\n",
    "\n",
    "        Outputs:\n",
    "            c: the context vector of shape (batch_size, hidden_dim)\n",
    "        \"\"\"\n",
    "        #masks = (torch.sum(masks, 2) > 0).type(torch.float).unsqueeze(2)\n",
    "        \n",
    "        return torch.sum( x * alpha * beta * masks , dim=1 )\n",
    "    \n",
    "    def __init__(self, hidden_dim=128, notes_emb_size=200):\n",
    "        super().__init__()\n",
    "        \n",
    "        self.rnn_a = nn.GRU(notes_emb_size, notes_emb_size, batch_first=True)\n",
    "        self.rnn_b = nn.GRU(notes_emb_size, notes_emb_size, batch_first=True)\n",
    "        self.att_a = NotesAlphaAttention(notes_emb_size)\n",
    "        self.att_b = NotesBetaAttention(notes_emb_size)\n",
    "        self.fc = nn.Linear(notes_emb_size, hidden_dim)\n",
    "        self.sigmoid = nn.Sigmoid()\n",
    "        #self.emb_size = notes_emb_size\n",
    "        #self.RNN = nn.GRU(input_size = input_notes_emb_size, hidden_size = notes_emb_size, batch_first = True)\n",
    "        #self.fc1 = nn.Linear(notes_emb_size, notes_emb_size)\n",
    "        #self.relu = nn.ReLU()\n",
    "        #self.dropout = nn.Dropout()\n",
    "        #self.fc2 = nn.Linear(notes_emb_size,128)\n",
    "        #self.sig = nn.Sigmoid()\n",
    "        \n",
    "    def forward(self, x, masks):\n",
    "        g, _ = self.rnn_a(x)\n",
    "        h, _ = self.rnn_b(x)\n",
    "        alpha = self.att_a(g)\n",
    "        beta = self.att_b(h)\n",
    "        #print(alpha.shape)\n",
    "        #print(masks.shape)\n",
    "        c = self.attention_sum(alpha, beta, x, masks)\n",
    "        logits = self.fc(c)\n",
    "        probs = self.sigmoid(logits)\n",
    "        #rnn_out = self.RNN(x)\n",
    "        #last_note_date_hs = get_last_note_date(rnn_out[0],masks)\n",
    "        #fc1_out = self.fc1(last_note_date_hs)\n",
    "        #fc1_out = self.relu(fc1_out)\n",
    "        #dp_out = self.dropout(fc1_out)\n",
    "        #fc2_out = self.fc2(dp_out)\n",
    "        #out = self.sig(fc2_out).flatten()\n",
    "\n",
    "        return probs.squeeze()"
   ]
  },
  {
   "cell_type": "code",
   "execution_count": null,
   "metadata": {},
   "outputs": [],
   "source": [
    "def get_last_note_date(hidden_states, masks):   \n",
    "    #last_visit = ((masks.sum(axis = 2) > 0).sum(axis = 1) - 1).unsqueeze(-1)\n",
    "    #if(step == 134):\n",
    "    #print(masks)\n",
    "    #print(hidden_states.shape)\n",
    "    masks = ((masks.sum(axis = 2) > 0).sum(axis = 1)).unsqueeze(-1)\n",
    "    last_visit = masks.expand(-1,hidden_states.shape[2]).unsqueeze(1)\n",
    "    \n",
    "    out = torch.gather(hidden_states,dim = 1,index = last_visit)[:,-1,:]\n",
    "    return out"
   ]
  },
  {
   "cell_type": "code",
   "execution_count": null,
   "metadata": {},
   "outputs": [],
   "source": [
    "def conv_output_volume(W, K, S, P):    \n",
    "    return  (((W-K+2*P)//S)+1)"
   ]
  },
  {
   "source": [
    "class NotesRNN(nn.Module):\n",
    "    \n",
    "    \n",
    "    \n",
    "    def __init__(self, notes_emb_size=128, input_notes_emb_size=200):\n",
    "        super().__init__()\n",
    "        \n",
    "        self.emb_size = notes_emb_size\n",
    "        self.RNN = nn.GRU(input_size = input_notes_emb_size, hidden_size = notes_emb_size, batch_first = True)\n",
    "        self.fc1 = nn.Linear(notes_emb_size, notes_emb_size)\n",
    "        self.relu = nn.ReLU()\n",
    "        self.dropout = nn.Dropout()\n",
    "        self.fc2 = nn.Linear(notes_emb_size,128)\n",
    "        self.sig = nn.Sigmoid()\n",
    "        \n",
    "    def forward(self, x, masks):\n",
    "        rnn_out = self.RNN(x)\n",
    "        last_note_date_hs = get_last_note_date(rnn_out[0],masks)\n",
    "        #fc1_out = self.fc1(last_note_date_hs)\n",
    "        #fc1_out = self.relu(fc1_out)\n",
    "        #dp_out = self.dropout(fc1_out)\n",
    "        #fc2_out = self.fc2(dp_out)\n",
    "        #out = self.sig(fc2_out).flatten()\n",
    "\n",
    "        return probs.squeeze()"
   ],
   "cell_type": "markdown",
   "metadata": {}
  }
 ]
}