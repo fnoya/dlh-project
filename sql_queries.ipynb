{
 "cells": [
  {
   "cell_type": "markdown",
   "metadata": {},
   "source": [
    "## SQL Queries to Create Tables Used for Project"
   ]
  },
  {
   "cell_type": "markdown",
   "metadata": {},
   "source": [
    "> The creation of different tables was done in AWS Athena and in some circumstances csv files\n",
    "> were created in the AWS Sagemaker, saved in s3 bucket, to be recreated as tables in Athena "
   ]
  },
  {
   "cell_type": "code",
   "execution_count": null,
   "metadata": {},
   "outputs": [],
   "source": [
    "!pip install PyAthena\n",
    "from pyathena import connect\n",
    "from pyathena.pandas.util import as_pandas\n",
    "\n",
    "\n",
    "# Import libraries\n",
    "import datetime\n",
    "import numpy as np\n",
    "import pandas as pd\n",
    "import matplotlib.pyplot as plt\n",
    "import os\n",
    "import boto3\n",
    "from botocore.client import ClientError\n",
    "from IPython.display import display, HTML\n",
    "import pickle\n",
    "%matplotlib inline\n",
    "\n",
    "\n",
    "s3 = boto3.resource('s3')\n",
    "client = boto3.client(\"sts\")\n",
    "account_id = client.get_caller_identity()[\"Account\"]\n",
    "my_session = boto3.session.Session()\n",
    "region = my_session.region_name\n",
    "athena_query_results_bucket = 'aws-athena-query-results-'+account_id+'-'+region\n",
    "\n",
    "try:\n",
    "    s3.meta.client.head_bucket(Bucket=athena_query_results_bucket)\n",
    "except ClientError:\n",
    "    bucket = s3.create_bucket(Bucket=athena_query_results_bucket)\n",
    "    print('Creating bucket '+athena_query_results_bucket)\n",
    "cursor = connect(s3_staging_dir='s3://'+athena_query_results_bucket+'/athena/temp').cursor()"
   ]
  },
  {
   "cell_type": "markdown",
   "metadata": {},
   "source": [
    "## Diabetic Patients Cohort Table"
   ]
  },
  {
   "cell_type": "code",
   "execution_count": null,
   "metadata": {},
   "outputs": [],
   "source": [
    "cursor.execute(\"\"\" CREATE TABLE default.diabetic_patients_cohort\n",
    "WITH (\n",
    "  format='PARQUET'\n",
    ") AS\n",
    "SELECT admissions.subject_id, (min(admissions.admittime)) as admit_time, max(admissions.dischtime) as discharge_time, if(max(admissions.deathtime) is null,0,1) as mortality_flag\n",
    "FROM mimiciii.admissions admissions \n",
    "WHERE admissions.subject_id in (SELECT DISTINCT diag.subject_id\n",
    "                                FROM mimiciii.diagnoses_icd diag \n",
    "                                WHERE diag.icd9_code in (SELECT diags.icd9_code \n",
    "                                                         FROM mimiciii.d_icd_diagnoses diags \n",
    "                                                         WHERE diags.long_title LIKE '%iabetes%' AND diags.icd9_code not in ('3572', 'V771','V180', 'V1221')\n",
    "                                                        )\n",
    "                               ) \n",
    "AND DATE_DIFF('hour',admissions.admittime,admissions.dischtime)>48\n",
    "GROUP BY admissions.subject_id\n",
    "             \"\"\" )"
   ]
  },
  {
   "cell_type": "markdown",
   "metadata": {},
   "source": [
    "### Retrieve Diabetic Patients Table from Athena to Split and Resample"
   ]
  },
  {
   "cell_type": "code",
   "execution_count": null,
   "metadata": {},
   "outputs": [],
   "source": [
    "query = 'select * from default.diabetic_patients_cohort'\n",
    "cursor.execute(query)\n",
    "cohort_patients_df = as_pandas(cursor)"
   ]
  },
  {
   "cell_type": "markdown",
   "metadata": {},
   "source": [
    "### Python Code to Split Data and Resample Training Data"
   ]
  },
  {
   "cell_type": "code",
   "execution_count": null,
   "metadata": {},
   "outputs": [],
   "source": [
    "from sklearn.model_selection import train_test_split\n",
    "\n",
    "train_cohort_df, test_cohort_df = train_test_split(cohort_patients_df, train_size=0.8,\n",
    "                                                 random_state=230729, shuffle=True)"
   ]
  },
  {
   "cell_type": "code",
   "execution_count": null,
   "metadata": {},
   "outputs": [],
   "source": [
    "#check number of patients in each class\n",
    "class_0 = train_cohort_df[train_cohort_df.mortality_flag==0]\n",
    "class_1 = train_cohort_df[train_cohort_df.mortality_flag==1]\n",
    "\n",
    "print(class_0.shape)\n",
    "print(class_1.shape)"
   ]
  },
  {
   "cell_type": "markdown",
   "metadata": {},
   "source": [
    "### Resample Training Set\n",
    "> To resolve the problem of class imbalance, we resampled the training data using the resample\n",
    "> class from sklearn.utils package\n"
   ]
  },
  {
   "cell_type": "code",
   "execution_count": null,
   "metadata": {},
   "outputs": [],
   "source": [
    "#Upsample the training data\n",
    "from sklearn.utils import resample\n",
    "## Upsampling to balance dataset\n",
    "#separate class into majority and minority classes\n",
    "df_majority = train_cohort_df[train_cohort_df.mortality_flag==0]\n",
    "df_minority = train_cohort_df[train_cohort_df.mortality_flag==1]\n",
    "\n",
    "#upsample the minority class\n",
    "df_minority_upsampled = resample(df_minority, replace=True, n_samples=class_0.shape[0],\n",
    "                                random_state=230729)\n",
    "\n",
    "#comibine majority dataframe with new minority dataframe\n",
    "df_upsampled = pd.concat([df_majority,df_minority_upsampled])\n",
    "\n",
    "#display new class counts\n",
    "df_upsampled.mortality_flag.value_counts()"
   ]
  },
  {
   "cell_type": "code",
   "execution_count": null,
   "metadata": {},
   "outputs": [],
   "source": [
    "## Create New column in df_upsampled uniquely identifies each data\n",
    "df_upsampled.reset_index(inplace=True)\n",
    "df_upsampled.reset_index(inplace=True)\n",
    "df_upsampled = df_upsampled.drop(columns=['index'])\n",
    "df_upsampled = df_upsampled.rename(columns={\"level_0\":\"new_subject_id\"})"
   ]
  },
  {
   "cell_type": "markdown",
   "metadata": {},
   "source": [
    "### Save train and test dataframes as csv files to s3 bucket"
   ]
  },
  {
   "cell_type": "code",
   "execution_count": null,
   "metadata": {},
   "outputs": [],
   "source": [
    "#save balanced train cohort to bucket\n",
    "df_upsampled.to_csv('s3://'+athena_query_results_bucket+'/athena/temp/train2/train_cohort.csv', index=False)"
   ]
  },
  {
   "cell_type": "code",
   "execution_count": null,
   "metadata": {},
   "outputs": [],
   "source": [
    "#save test cohort to bucket\n",
    "test_cohort_df.to_csv('s3://'+athena_query_results_bucket+'/athena/temp/test/test_cohort.csv', index=False)"
   ]
  },
  {
   "cell_type": "markdown",
   "metadata": {},
   "source": [
    "## Balanced Training Set Cohort Table\n",
    "- As a result of resampling to resolve the issue of class imbalance"
   ]
  },
  {
   "cell_type": "code",
   "execution_count": null,
   "metadata": {},
   "outputs": [],
   "source": [
    "cursor.execute(\"\"\" create external table if not exists train_cohort2 (\n",
    "  new_subject_id int,\n",
    "  subject_id int,\n",
    "  admit_time timestamp,\n",
    "  discharge_time timestamp,\n",
    "  mortality_flag int\n",
    "  )row format delimited\n",
    "   fields terminated by ','\n",
    "   escaped by '\\\\'\n",
    "   lines terminated by '\\n'\n",
    "  location 's3://aws-athena-query-results-067114122515-us-east-1/athena/temp/train2/'\n",
    "  tblproperties(\"skip.header.line.count\"=\"1\");\n",
    "  \"\"\")"
   ]
  },
  {
   "cell_type": "markdown",
   "metadata": {},
   "source": [
    "## Test Set Table"
   ]
  },
  {
   "cell_type": "code",
   "execution_count": null,
   "metadata": {},
   "outputs": [],
   "source": [
    "cursor.execute (\"\"\" create external table if not exists test_cohort (\n",
    "  subject_id int,\n",
    "  admit_time timestamp,\n",
    "  discharge_time timestamp,\n",
    "  mortality_flag int\n",
    "  )row format delimited\n",
    "   fields terminated by ','\n",
    "   escaped by '\\\\'\n",
    "   lines terminated by '\\n'\n",
    "  location 's3://aws-athena-query-results-067114122515-us-east-1/athena/temp/test/'\n",
    "  tblproperties(\"skip.header.line.count\"=\"1\");\n",
    "  \"\"\")"
   ]
  },
  {
   "cell_type": "code",
   "execution_count": null,
   "metadata": {},
   "outputs": [],
   "source": []
  }
 ],
 "metadata": {
  "kernelspec": {
   "display_name": "Python 3",
   "language": "python",
   "name": "python3"
  },
  "language_info": {
   "codemirror_mode": {
    "name": "ipython",
    "version": 3
   },
   "file_extension": ".py",
   "mimetype": "text/x-python",
   "name": "python",
   "nbconvert_exporter": "python",
   "pygments_lexer": "ipython3",
   "version": "3.7.9"
  }
 },
 "nbformat": 4,
 "nbformat_minor": 4
}
